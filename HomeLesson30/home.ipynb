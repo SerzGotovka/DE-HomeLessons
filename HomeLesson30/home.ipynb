{
 "cells": [
  {
   "cell_type": "code",
   "execution_count": 16,
   "id": "60139fbb",
   "metadata": {},
   "outputs": [],
   "source": [
    "from neo4j import GraphDatabase\n",
    "\n",
    "url = 'neo4j://localhost:7687'\n",
    "user = 'neo4j'\n",
    "password = 'securepassword'\n",
    "\n",
    "driver = GraphDatabase.driver(url, auth=(user, password))"
   ]
  },
  {
   "cell_type": "markdown",
   "id": "539e2000",
   "metadata": {},
   "source": [
    "1. Найти самый старый фильм и самый новый фильм - вывести их названия по 1 шт (2 запроса)"
   ]
  },
  {
   "cell_type": "code",
   "execution_count": 1,
   "id": "e8e897a3",
   "metadata": {},
   "outputs": [],
   "source": [
    "def min_films(tx):\n",
    "    min_film = tx.run(\n",
    "        \"\"\"\n",
    "    MATCH (m:Movie)\n",
    "    Return MIN(m.released) as min_movie \n",
    "\"\"\"\n",
    "    )\n",
    "    record = min_film.single()\n",
    "    return record[\"min_movie\"] if record else None"
   ]
  },
  {
   "cell_type": "code",
   "execution_count": 5,
   "id": "e1ebda73",
   "metadata": {},
   "outputs": [],
   "source": [
    "def max_films(tx):\n",
    "    max_film = tx.run(\n",
    "        \"\"\"\n",
    "    MATCH (m:Movie)\n",
    "    Return MAX(m.released) as max_movie \n",
    "\"\"\"\n",
    "    )\n",
    "    record = max_film.single()\n",
    "    return record[\"max_movie\"] if record else None"
   ]
  },
  {
   "cell_type": "code",
   "execution_count": 4,
   "id": "19cbf4fd",
   "metadata": {},
   "outputs": [
    {
     "name": "stdout",
     "output_type": "stream",
     "text": [
      "1975\n"
     ]
    }
   ],
   "source": [
    "with driver.session() as session:\n",
    "    result = session.execute_read(min_films)\n",
    "    print(result)"
   ]
  },
  {
   "cell_type": "code",
   "execution_count": 6,
   "id": "15422900",
   "metadata": {},
   "outputs": [
    {
     "name": "stdout",
     "output_type": "stream",
     "text": [
      "2012\n"
     ]
    }
   ],
   "source": [
    "with driver.session() as session:\n",
    "    result = session.execute_read(max_films)\n",
    "    print(result)"
   ]
  },
  {
   "cell_type": "markdown",
   "id": "13c276ea",
   "metadata": {},
   "source": [
    "2. Получить среднее количество актёров на фильм "
   ]
  },
  {
   "cell_type": "code",
   "execution_count": 10,
   "id": "23160a1a",
   "metadata": {},
   "outputs": [],
   "source": [
    "def avg_person_onfilm(tx, film):\n",
    "    avg_person = tx.run(\n",
    "        \"\"\"\n",
    "    MATCH (m:Movie{title:$film})<-[:ACTED_IN]-(p:Person)\n",
    "WITH m, COUNT(p) AS actors_count\n",
    "RETURN AVG(actors_count) AS avg_act_movie\n",
    "\"\"\",\n",
    "film=film\n",
    "    )\n",
    "    record = avg_person.single()\n",
    "    return record[\"avg_act_movie\"] if record else None"
   ]
  },
  {
   "cell_type": "code",
   "execution_count": 13,
   "id": "2a430226",
   "metadata": {},
   "outputs": [
    {
     "name": "stdout",
     "output_type": "stream",
     "text": [
      "5.0\n"
     ]
    }
   ],
   "source": [
    "with driver.session() as session:\n",
    "    record = session.execute_read(avg_person_onfilm, \"What Dreams May Come\")\n",
    "    print(record)"
   ]
  },
  {
   "cell_type": "markdown",
   "id": "6e27cacf",
   "metadata": {},
   "source": [
    "3. Группировка фильмов по годам и подсчёт количества фильмов в каждом году"
   ]
  },
  {
   "cell_type": "code",
   "execution_count": 14,
   "id": "2a0353c2",
   "metadata": {},
   "outputs": [],
   "source": [
    "def group_film_by_year(tx):\n",
    "    group_film = tx.run(\n",
    "        \"\"\"\n",
    "        MATCH (movie:Movie)\n",
    "        RETURN movie.released, count(movie) as count_movie\n",
    "        ORDER BY movie.released        \n",
    "\"\"\"\n",
    "    )\n",
    "    return list(group_film)"
   ]
  },
  {
   "cell_type": "code",
   "execution_count": 22,
   "id": "8d7cbe61",
   "metadata": {},
   "outputs": [
    {
     "name": "stdout",
     "output_type": "stream",
     "text": [
      "[<Record movie.released=1975 count_movie=3>, <Record movie.released=1986 count_movie=6>, <Record movie.released=1990 count_movie=3>, <Record movie.released=1992 count_movie=12>, <Record movie.released=1993 count_movie=3>, <Record movie.released=1995 count_movie=6>, <Record movie.released=1996 count_movie=9>, <Record movie.released=1997 count_movie=6>, <Record movie.released=1998 count_movie=9>, <Record movie.released=1999 count_movie=12>, <Record movie.released=2000 count_movie=9>, <Record movie.released=2003 count_movie=9>, <Record movie.released=2004 count_movie=3>, <Record movie.released=2006 count_movie=9>, <Record movie.released=2007 count_movie=3>, <Record movie.released=2008 count_movie=6>, <Record movie.released=2009 count_movie=3>, <Record movie.released=2012 count_movie=3>]\n",
      "1975 - 3\n",
      "1986 - 6\n",
      "1990 - 3\n",
      "1992 - 12\n",
      "1993 - 3\n",
      "1995 - 6\n",
      "1996 - 9\n",
      "1997 - 6\n",
      "1998 - 9\n",
      "1999 - 12\n",
      "2000 - 9\n",
      "2003 - 9\n",
      "2004 - 3\n",
      "2006 - 9\n",
      "2007 - 3\n",
      "2008 - 6\n",
      "2009 - 3\n",
      "2012 - 3\n"
     ]
    }
   ],
   "source": [
    "with driver.session() as session:\n",
    "    record = session.execute_read(group_film_by_year)\n",
    "    print(record)\n",
    "\n",
    "    for p in record:\n",
    "        print(f'{p[\"movie.released\"]} - {p[\"count_movie\"]}')"
   ]
  }
 ],
 "metadata": {
  "kernelspec": {
   "display_name": "venv",
   "language": "python",
   "name": "python3"
  },
  "language_info": {
   "codemirror_mode": {
    "name": "ipython",
    "version": 3
   },
   "file_extension": ".py",
   "mimetype": "text/x-python",
   "name": "python",
   "nbconvert_exporter": "python",
   "pygments_lexer": "ipython3",
   "version": "3.12.9"
  }
 },
 "nbformat": 4,
 "nbformat_minor": 5
}
