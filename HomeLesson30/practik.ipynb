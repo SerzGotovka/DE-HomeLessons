{
 "cells": [
  {
   "cell_type": "code",
   "execution_count": 5,
   "metadata": {},
   "outputs": [],
   "source": [
    "from neo4j import GraphDatabase\n",
    "\n",
    "url = 'neo4j://localhost:7687'\n",
    "user = 'neo4j'\n",
    "password = 'securepassword'\n",
    "\n",
    "driver = GraphDatabase.driver(url, auth=(user, password))\n"
   ]
  },
  {
   "cell_type": "markdown",
   "metadata": {},
   "source": [
    "1. Найдём все фильмы, в которых играл Tom Hanks"
   ]
  },
  {
   "cell_type": "code",
   "execution_count": null,
   "metadata": {},
   "outputs": [],
   "source": [
    "def movies_tom_hanks(tx):\n",
    "    result = tx.run(\n",
    "        \"MATCH (person: Person{name:'Tom Hanks'})-[:ACTED_IN]->(movie:Movie) RETURN movie.title AS movie_title\"\n",
    "    )\n",
    "    return [record for record in result]"
   ]
  },
  {
   "cell_type": "code",
   "execution_count": 16,
   "metadata": {},
   "outputs": [
    {
     "name": "stdout",
     "output_type": "stream",
     "text": [
      "Joe Versus the Volcano\n",
      "The Da Vinci Code\n",
      "A League of Their Own\n",
      "Apollo 13\n",
      "Charlie Wilson's War\n",
      "The Green Mile\n",
      "Cast Away\n",
      "That Thing You Do\n",
      "The Polar Express\n",
      "Sleepless in Seattle\n",
      "Cloud Atlas\n",
      "You've Got Mail\n",
      "The Da Vinci Code\n",
      "Cloud Atlas\n",
      "Charlie Wilson's War\n",
      "Cast Away\n",
      "You've Got Mail\n",
      "Apollo 13\n",
      "The Polar Express\n",
      "The Green Mile\n",
      "Sleepless in Seattle\n",
      "A League of Their Own\n",
      "That Thing You Do\n",
      "Joe Versus the Volcano\n",
      "Charlie Wilson's War\n",
      "The Green Mile\n",
      "Cast Away\n",
      "That Thing You Do\n",
      "You've Got Mail\n",
      "Cloud Atlas\n",
      "A League of Their Own\n",
      "The Polar Express\n",
      "Apollo 13\n",
      "The Da Vinci Code\n",
      "Joe Versus the Volcano\n",
      "Sleepless in Seattle\n"
     ]
    }
   ],
   "source": [
    "with driver.session() as session:\n",
    "    movie = session.execute_read(movies_tom_hanks)\n",
    "    \n",
    "    for p in movie:\n",
    "        print(f'{p[\"movie.title\"]}')"
   ]
  },
  {
   "cell_type": "markdown",
   "metadata": {},
   "source": [
    "2. Найти режиссёров, которые сняли больше одного фильма"
   ]
  },
  {
   "cell_type": "code",
   "execution_count": 37,
   "metadata": {},
   "outputs": [],
   "source": [
    "def producer_no_zero(tx):\n",
    "    result = tx.run(\n",
    "        \"\"\"\n",
    "        MATCH (producer:Person)-[:PRODUCED]->(movie:Movie)\n",
    "        WITH producer, count(movie) as count_movie\n",
    "        WHERE count_movie > 1\n",
    "        RETURN producer, count_movie \n",
    "\"\"\"\n",
    "    )\n",
    "    return list(result)"
   ]
  },
  {
   "cell_type": "code",
   "execution_count": 38,
   "metadata": {},
   "outputs": [
    {
     "name": "stdout",
     "output_type": "stream",
     "text": [
      "Joel Silver\n",
      "Lilly Wachowski\n",
      "Lana Wachowski\n",
      "Joel Silver\n",
      "Lilly Wachowski\n",
      "Lana Wachowski\n",
      "Joel Silver\n",
      "Lilly Wachowski\n",
      "Lana Wachowski\n"
     ]
    }
   ],
   "source": [
    "with driver.session() as session:\n",
    "    producer = session.execute_read(producer_no_zero)\n",
    "    \n",
    "    for p in producer:\n",
    "        print(f'{p[\"producer\"].get(\"name\")}')"
   ]
  },
  {
   "cell_type": "markdown",
   "metadata": {},
   "source": [
    "3. Средний год выпуска фильмов, в которых играл конкретный актёр"
   ]
  },
  {
   "cell_type": "code",
   "execution_count": 44,
   "metadata": {},
   "outputs": [],
   "source": [
    "def avg_films(tx, name):\n",
    "    result = tx.run(\n",
    "        \"\"\"\n",
    "        MATCH (person: Person{name:$name})-[:ACTED_IN]->(movie:Movie)\n",
    "        RETURN AVG(movie.released) as avg_year\n",
    "\"\"\",\n",
    "name=name\n",
    "    )\n",
    "    record = result.single()\n",
    "    \n",
    "    return record[\"avg_year\"] if record else None"
   ]
  },
  {
   "cell_type": "code",
   "execution_count": 48,
   "metadata": {},
   "outputs": [
    {
     "name": "stdout",
     "output_type": "stream",
     "text": [
      "1999.0\n"
     ]
    }
   ],
   "source": [
    "with driver.session() as session:\n",
    "    avg_year_film = session.execute_read(avg_films, \"Ethan Hawke\")\n",
    "    print(avg_year_film)"
   ]
  }
 ],
 "metadata": {
  "kernelspec": {
   "display_name": "venv",
   "language": "python",
   "name": "python3"
  },
  "language_info": {
   "codemirror_mode": {
    "name": "ipython",
    "version": 3
   },
   "file_extension": ".py",
   "mimetype": "text/x-python",
   "name": "python",
   "nbconvert_exporter": "python",
   "pygments_lexer": "ipython3",
   "version": "3.12.9"
  }
 },
 "nbformat": 4,
 "nbformat_minor": 2
}
