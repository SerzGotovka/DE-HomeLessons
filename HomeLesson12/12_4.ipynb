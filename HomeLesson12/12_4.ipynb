{
 "cells": [
  {
   "cell_type": "markdown",
   "metadata": {},
   "source": [
    "Задача 4. Анализ возраста (если бы он был)\n",
    "Задача:\n",
    "- Добавьте столбец с возрастом (случайные значения от 18 до 65).\n",
    "- Разделите пользователей на возрастные группы: 18-25, 26-35, 36-50, 51+.\n",
    "- Подсчитайте количество пользователей в каждой группе.\n",
    "- Найдите средний возраст для каждой группы.\n"
   ]
  },
  {
   "cell_type": "code",
   "execution_count": 16,
   "metadata": {},
   "outputs": [
    {
     "data": {
      "application/vnd.microsoft.datawrangler.viewer.v0+json": {
       "columns": [
        {
         "name": "index",
         "rawType": "int64",
         "type": "integer"
        },
        {
         "name": "id",
         "rawType": "int64",
         "type": "integer"
        },
        {
         "name": "first_name",
         "rawType": "object",
         "type": "string"
        },
        {
         "name": "last_name",
         "rawType": "object",
         "type": "string"
        },
        {
         "name": "email",
         "rawType": "object",
         "type": "string"
        },
        {
         "name": "gender",
         "rawType": "object",
         "type": "string"
        },
        {
         "name": "ip_address",
         "rawType": "object",
         "type": "string"
        }
       ],
       "conversionMethod": "pd.DataFrame",
       "ref": "17e14ed2-2e06-47cc-bde7-6254ecab4646",
       "rows": [
        [
         "0",
         "1",
         "Zebulon",
         "Sheara",
         "zsheara0@buzzfeed.com",
         "Male",
         "26.254.115.173"
        ],
        [
         "1",
         "2",
         "Gabby",
         "Hundy",
         "ghundy1@dyndns.org",
         "Male",
         "86.222.142.186"
        ],
        [
         "2",
         "3",
         "Zaneta",
         "Macewan",
         "zmacewan2@dyndns.org",
         "Female",
         "20.98.185.65"
        ],
        [
         "3",
         "4",
         "Linn",
         "Steely",
         "lsteely3@psu.edu",
         "Male",
         "65.253.237.106"
        ],
        [
         "4",
         "5",
         "Althea",
         "Segar",
         "asegar4@prlog.org",
         "Female",
         "25.127.235.34"
        ],
        [
         "5",
         "6",
         "Poppy",
         "Kinnard",
         "pkinnard5@mozilla.org",
         "Female",
         "246.66.172.88"
        ],
        [
         "6",
         "7",
         "Tanhya",
         "Allabarton",
         "tallabarton6@eepurl.com",
         "Female",
         "71.244.198.196"
        ],
        [
         "7",
         "8",
         "Anetta",
         "Herety",
         "aherety7@github.io",
         "Female",
         "40.45.249.248"
        ],
        [
         "8",
         "9",
         "Kaile",
         "Clementson",
         "kclementson8@rediff.com",
         "Female",
         "147.21.239.61"
        ],
        [
         "9",
         "10",
         "Blanche",
         "Akehurst",
         "bakehurst9@newsvine.com",
         "Female",
         "219.148.148.134"
        ],
        [
         "10",
         "11",
         "Melosa",
         "Boneham",
         "mbonehama@quantcast.com",
         "Female",
         "176.120.71.216"
        ],
        [
         "11",
         "12",
         "Deina",
         "Frisdick",
         "dfrisdickb@bbc.co.uk",
         "Female",
         "146.176.89.94"
        ],
        [
         "12",
         "13",
         "Conrad",
         "Ceillier",
         "cceillierc@squarespace.com",
         "Male",
         "77.176.126.146"
        ],
        [
         "13",
         "14",
         "Nev",
         "Lavies",
         "nlaviesd@si.edu",
         "Male",
         "21.101.254.200"
        ],
        [
         "14",
         "15",
         "Hyacinth",
         "Keuntje",
         "hkeuntjee@about.com",
         "Female",
         "226.2.36.254"
        ],
        [
         "15",
         "16",
         "Mamie",
         "Wainwright",
         "mwainwrightf@studiopress.com",
         "Female",
         "163.100.199.174"
        ],
        [
         "16",
         "17",
         "Humfried",
         "Ohanessian",
         "hohanessiang@wufoo.com",
         "Male",
         "16.207.33.214"
        ],
        [
         "17",
         "18",
         "Terence",
         "Willans",
         "twillansh@cornell.edu",
         "Male",
         "62.154.238.220"
        ],
        [
         "18",
         "19",
         "Auria",
         "Barnwall",
         "abarnwalli@jiathis.com",
         "Female",
         "226.19.92.82"
        ],
        [
         "19",
         "20",
         "Donal",
         "Cosgrove",
         "dcosgrovej@walmart.com",
         "Male",
         "234.120.141.220"
        ],
        [
         "20",
         "21",
         "Abbott",
         "Cumberledge",
         "acumberledgek@aboutads.info",
         "Male",
         "8.228.130.210"
        ],
        [
         "21",
         "22",
         "North",
         "Egre",
         "negrel@simplemachines.org",
         "Non-binary",
         "234.233.47.238"
        ],
        [
         "22",
         "23",
         "Chariot",
         "Bayns",
         "cbaynsm@flavors.me",
         "Male",
         "39.215.54.137"
        ],
        [
         "23",
         "24",
         "Maurice",
         "Patchett",
         "mpatchettn@hostgator.com",
         "Male",
         "81.7.158.118"
        ],
        [
         "24",
         "25",
         "Sterling",
         "Cheke",
         "schekeo@baidu.com",
         "Polygender",
         "55.50.211.191"
        ],
        [
         "25",
         "26",
         "Ysabel",
         "Aitchinson",
         "yaitchinsonp@woothemes.com",
         "Female",
         "162.207.227.183"
        ],
        [
         "26",
         "27",
         "Nanon",
         "Lamblin",
         "nlamblinq@networksolutions.com",
         "Female",
         "52.234.189.243"
        ],
        [
         "27",
         "28",
         "Barnabe",
         "Dutteridge",
         "bdutteridger@redcross.org",
         "Male",
         "180.29.243.79"
        ],
        [
         "28",
         "29",
         "Ximenes",
         "Pfaffe",
         "xpfaffes@globo.com",
         "Agender",
         "251.138.172.227"
        ],
        [
         "29",
         "30",
         "Reynard",
         "Breeton",
         "rbreetont@nhs.uk",
         "Male",
         "35.207.155.210"
        ],
        [
         "30",
         "31",
         "Gnni",
         "Steers",
         "gsteersu@sogou.com",
         "Female",
         "228.222.92.212"
        ],
        [
         "31",
         "32",
         "Dur",
         "Wonham",
         "dwonhamv@berkeley.edu",
         "Male",
         "52.114.246.28"
        ],
        [
         "32",
         "33",
         "Christye",
         "Eckford",
         "ceckfordw@fotki.com",
         "Female",
         "149.129.226.216"
        ],
        [
         "33",
         "34",
         "Juliet",
         "Matias",
         "jmatiasx@sitemeter.com",
         "Female",
         "192.224.41.31"
        ],
        [
         "34",
         "35",
         "Lucas",
         "Huske",
         "lhuskey@ifeng.com",
         "Male",
         "30.57.91.208"
        ],
        [
         "35",
         "36",
         "Ronnie",
         "Fairbourne",
         "rfairbournez@bloglovin.com",
         "Female",
         "62.114.65.21"
        ],
        [
         "36",
         "37",
         "Garnette",
         "Treleven",
         "gtreleven10@google.com.hk",
         "Female",
         "62.144.177.5"
        ],
        [
         "37",
         "38",
         "Rahal",
         "Polly",
         "rpolly11@soup.io",
         "Female",
         "74.143.141.169"
        ],
        [
         "38",
         "39",
         "Cindee",
         "Offell",
         "coffell12@vkontakte.ru",
         "Female",
         "71.189.253.211"
        ],
        [
         "39",
         "40",
         "Hedwiga",
         "Bonder",
         "hbonder13@accuweather.com",
         "Female",
         "82.254.103.38"
        ],
        [
         "40",
         "41",
         "Janeta",
         "Rusted",
         "jrusted14@springer.com",
         "Female",
         "101.134.9.209"
        ],
        [
         "41",
         "42",
         "Theodosia",
         "De Maine",
         "tdemaine15@npr.org",
         "Genderqueer",
         "17.88.42.69"
        ],
        [
         "42",
         "43",
         "Anne-corinne",
         "Blythin",
         "ablythin16@addtoany.com",
         "Female",
         "249.46.95.94"
        ],
        [
         "43",
         "44",
         "Camey",
         "Ormiston",
         "cormiston17@dailymotion.com",
         "Male",
         "73.246.189.16"
        ],
        [
         "44",
         "45",
         "Marijo",
         "Sandhill",
         "msandhill18@sciencedirect.com",
         "Female",
         "153.194.23.12"
        ],
        [
         "45",
         "46",
         "Claire",
         "Streater",
         "cstreater19@wikia.com",
         "Male",
         "76.21.21.125"
        ],
        [
         "46",
         "47",
         "Nealon",
         "Coudray",
         "ncoudray1a@apache.org",
         "Male",
         "166.132.75.136"
        ],
        [
         "47",
         "48",
         "Oren",
         "Tranfield",
         "otranfield1b@youku.com",
         "Male",
         "80.79.187.93"
        ],
        [
         "48",
         "49",
         "Rufus",
         "Bhar",
         "rbhar1c@toplist.cz",
         "Male",
         "238.10.230.21"
        ],
        [
         "49",
         "50",
         "Nickie",
         "Enga",
         "nenga1d@tmall.com",
         "Female",
         "186.167.117.158"
        ]
       ],
       "shape": {
        "columns": 6,
        "rows": 1000
       }
      },
      "text/html": [
       "<div>\n",
       "<style scoped>\n",
       "    .dataframe tbody tr th:only-of-type {\n",
       "        vertical-align: middle;\n",
       "    }\n",
       "\n",
       "    .dataframe tbody tr th {\n",
       "        vertical-align: top;\n",
       "    }\n",
       "\n",
       "    .dataframe thead th {\n",
       "        text-align: right;\n",
       "    }\n",
       "</style>\n",
       "<table border=\"1\" class=\"dataframe\">\n",
       "  <thead>\n",
       "    <tr style=\"text-align: right;\">\n",
       "      <th></th>\n",
       "      <th>id</th>\n",
       "      <th>first_name</th>\n",
       "      <th>last_name</th>\n",
       "      <th>email</th>\n",
       "      <th>gender</th>\n",
       "      <th>ip_address</th>\n",
       "    </tr>\n",
       "  </thead>\n",
       "  <tbody>\n",
       "    <tr>\n",
       "      <th>0</th>\n",
       "      <td>1</td>\n",
       "      <td>Zebulon</td>\n",
       "      <td>Sheara</td>\n",
       "      <td>zsheara0@buzzfeed.com</td>\n",
       "      <td>Male</td>\n",
       "      <td>26.254.115.173</td>\n",
       "    </tr>\n",
       "    <tr>\n",
       "      <th>1</th>\n",
       "      <td>2</td>\n",
       "      <td>Gabby</td>\n",
       "      <td>Hundy</td>\n",
       "      <td>ghundy1@dyndns.org</td>\n",
       "      <td>Male</td>\n",
       "      <td>86.222.142.186</td>\n",
       "    </tr>\n",
       "    <tr>\n",
       "      <th>2</th>\n",
       "      <td>3</td>\n",
       "      <td>Zaneta</td>\n",
       "      <td>Macewan</td>\n",
       "      <td>zmacewan2@dyndns.org</td>\n",
       "      <td>Female</td>\n",
       "      <td>20.98.185.65</td>\n",
       "    </tr>\n",
       "    <tr>\n",
       "      <th>3</th>\n",
       "      <td>4</td>\n",
       "      <td>Linn</td>\n",
       "      <td>Steely</td>\n",
       "      <td>lsteely3@psu.edu</td>\n",
       "      <td>Male</td>\n",
       "      <td>65.253.237.106</td>\n",
       "    </tr>\n",
       "    <tr>\n",
       "      <th>4</th>\n",
       "      <td>5</td>\n",
       "      <td>Althea</td>\n",
       "      <td>Segar</td>\n",
       "      <td>asegar4@prlog.org</td>\n",
       "      <td>Female</td>\n",
       "      <td>25.127.235.34</td>\n",
       "    </tr>\n",
       "    <tr>\n",
       "      <th>...</th>\n",
       "      <td>...</td>\n",
       "      <td>...</td>\n",
       "      <td>...</td>\n",
       "      <td>...</td>\n",
       "      <td>...</td>\n",
       "      <td>...</td>\n",
       "    </tr>\n",
       "    <tr>\n",
       "      <th>995</th>\n",
       "      <td>996</td>\n",
       "      <td>Zsa zsa</td>\n",
       "      <td>McGarahan</td>\n",
       "      <td>zmcgarahanrn@craigslist.org</td>\n",
       "      <td>Female</td>\n",
       "      <td>208.135.43.154</td>\n",
       "    </tr>\n",
       "    <tr>\n",
       "      <th>996</th>\n",
       "      <td>997</td>\n",
       "      <td>Al</td>\n",
       "      <td>Villiers</td>\n",
       "      <td>avilliersro@nydailynews.com</td>\n",
       "      <td>Agender</td>\n",
       "      <td>168.3.4.142</td>\n",
       "    </tr>\n",
       "    <tr>\n",
       "      <th>997</th>\n",
       "      <td>998</td>\n",
       "      <td>Natalina</td>\n",
       "      <td>Clavering</td>\n",
       "      <td>nclaveringrp@jugem.jp</td>\n",
       "      <td>Female</td>\n",
       "      <td>16.223.145.44</td>\n",
       "    </tr>\n",
       "    <tr>\n",
       "      <th>998</th>\n",
       "      <td>999</td>\n",
       "      <td>Gretta</td>\n",
       "      <td>Witheford</td>\n",
       "      <td>gwithefordrq@discovery.com</td>\n",
       "      <td>Female</td>\n",
       "      <td>61.83.241.246</td>\n",
       "    </tr>\n",
       "    <tr>\n",
       "      <th>999</th>\n",
       "      <td>1000</td>\n",
       "      <td>Tadio</td>\n",
       "      <td>Feighney</td>\n",
       "      <td>tfeighneyrr@google.es</td>\n",
       "      <td>Male</td>\n",
       "      <td>154.243.103.8</td>\n",
       "    </tr>\n",
       "  </tbody>\n",
       "</table>\n",
       "<p>1000 rows × 6 columns</p>\n",
       "</div>"
      ],
      "text/plain": [
       "       id first_name  last_name                        email   gender  \\\n",
       "0       1    Zebulon     Sheara        zsheara0@buzzfeed.com     Male   \n",
       "1       2      Gabby      Hundy           ghundy1@dyndns.org     Male   \n",
       "2       3     Zaneta    Macewan         zmacewan2@dyndns.org   Female   \n",
       "3       4       Linn     Steely             lsteely3@psu.edu     Male   \n",
       "4       5     Althea      Segar            asegar4@prlog.org   Female   \n",
       "..    ...        ...        ...                          ...      ...   \n",
       "995   996    Zsa zsa  McGarahan  zmcgarahanrn@craigslist.org   Female   \n",
       "996   997         Al   Villiers  avilliersro@nydailynews.com  Agender   \n",
       "997   998   Natalina  Clavering        nclaveringrp@jugem.jp   Female   \n",
       "998   999     Gretta  Witheford   gwithefordrq@discovery.com   Female   \n",
       "999  1000      Tadio   Feighney        tfeighneyrr@google.es     Male   \n",
       "\n",
       "         ip_address  \n",
       "0    26.254.115.173  \n",
       "1    86.222.142.186  \n",
       "2      20.98.185.65  \n",
       "3    65.253.237.106  \n",
       "4     25.127.235.34  \n",
       "..              ...  \n",
       "995  208.135.43.154  \n",
       "996     168.3.4.142  \n",
       "997   16.223.145.44  \n",
       "998   61.83.241.246  \n",
       "999   154.243.103.8  \n",
       "\n",
       "[1000 rows x 6 columns]"
      ]
     },
     "execution_count": 16,
     "metadata": {},
     "output_type": "execute_result"
    }
   ],
   "source": [
    "import random\n",
    "import pandas as pd\n",
    "import numpy as np\n",
    "\n",
    "\n",
    "df = pd.read_csv('hw_DE_12.csv')\n",
    "df\n"
   ]
  },
  {
   "cell_type": "markdown",
   "metadata": {},
   "source": [
    " Добавьте столбец с возрастом (случайные значения от 18 до 65)."
   ]
  },
  {
   "cell_type": "code",
   "execution_count": 19,
   "metadata": {},
   "outputs": [
    {
     "data": {
      "application/vnd.microsoft.datawrangler.viewer.v0+json": {
       "columns": [
        {
         "name": "index",
         "rawType": "int64",
         "type": "integer"
        },
        {
         "name": "id",
         "rawType": "int64",
         "type": "integer"
        },
        {
         "name": "first_name",
         "rawType": "object",
         "type": "string"
        },
        {
         "name": "last_name",
         "rawType": "object",
         "type": "string"
        },
        {
         "name": "email",
         "rawType": "object",
         "type": "string"
        },
        {
         "name": "gender",
         "rawType": "object",
         "type": "string"
        },
        {
         "name": "ip_address",
         "rawType": "object",
         "type": "string"
        },
        {
         "name": "age",
         "rawType": "int32",
         "type": "integer"
        }
       ],
       "conversionMethod": "pd.DataFrame",
       "ref": "8b81f499-6d00-482a-b49d-26a3b809546a",
       "rows": [
        [
         "0",
         "1",
         "Zebulon",
         "Sheara",
         "zsheara0@buzzfeed.com",
         "Male",
         "26.254.115.173",
         "57"
        ],
        [
         "1",
         "2",
         "Gabby",
         "Hundy",
         "ghundy1@dyndns.org",
         "Male",
         "86.222.142.186",
         "28"
        ],
        [
         "2",
         "3",
         "Zaneta",
         "Macewan",
         "zmacewan2@dyndns.org",
         "Female",
         "20.98.185.65",
         "57"
        ],
        [
         "3",
         "4",
         "Linn",
         "Steely",
         "lsteely3@psu.edu",
         "Male",
         "65.253.237.106",
         "59"
        ],
        [
         "4",
         "5",
         "Althea",
         "Segar",
         "asegar4@prlog.org",
         "Female",
         "25.127.235.34",
         "34"
        ],
        [
         "5",
         "6",
         "Poppy",
         "Kinnard",
         "pkinnard5@mozilla.org",
         "Female",
         "246.66.172.88",
         "62"
        ],
        [
         "6",
         "7",
         "Tanhya",
         "Allabarton",
         "tallabarton6@eepurl.com",
         "Female",
         "71.244.198.196",
         "20"
        ],
        [
         "7",
         "8",
         "Anetta",
         "Herety",
         "aherety7@github.io",
         "Female",
         "40.45.249.248",
         "44"
        ],
        [
         "8",
         "9",
         "Kaile",
         "Clementson",
         "kclementson8@rediff.com",
         "Female",
         "147.21.239.61",
         "37"
        ],
        [
         "9",
         "10",
         "Blanche",
         "Akehurst",
         "bakehurst9@newsvine.com",
         "Female",
         "219.148.148.134",
         "50"
        ],
        [
         "10",
         "11",
         "Melosa",
         "Boneham",
         "mbonehama@quantcast.com",
         "Female",
         "176.120.71.216",
         "43"
        ],
        [
         "11",
         "12",
         "Deina",
         "Frisdick",
         "dfrisdickb@bbc.co.uk",
         "Female",
         "146.176.89.94",
         "36"
        ],
        [
         "12",
         "13",
         "Conrad",
         "Ceillier",
         "cceillierc@squarespace.com",
         "Male",
         "77.176.126.146",
         "63"
        ],
        [
         "13",
         "14",
         "Nev",
         "Lavies",
         "nlaviesd@si.edu",
         "Male",
         "21.101.254.200",
         "19"
        ],
        [
         "14",
         "15",
         "Hyacinth",
         "Keuntje",
         "hkeuntjee@about.com",
         "Female",
         "226.2.36.254",
         "53"
        ],
        [
         "15",
         "16",
         "Mamie",
         "Wainwright",
         "mwainwrightf@studiopress.com",
         "Female",
         "163.100.199.174",
         "63"
        ],
        [
         "16",
         "17",
         "Humfried",
         "Ohanessian",
         "hohanessiang@wufoo.com",
         "Male",
         "16.207.33.214",
         "25"
        ],
        [
         "17",
         "18",
         "Terence",
         "Willans",
         "twillansh@cornell.edu",
         "Male",
         "62.154.238.220",
         "52"
        ],
        [
         "18",
         "19",
         "Auria",
         "Barnwall",
         "abarnwalli@jiathis.com",
         "Female",
         "226.19.92.82",
         "34"
        ],
        [
         "19",
         "20",
         "Donal",
         "Cosgrove",
         "dcosgrovej@walmart.com",
         "Male",
         "234.120.141.220",
         "65"
        ],
        [
         "20",
         "21",
         "Abbott",
         "Cumberledge",
         "acumberledgek@aboutads.info",
         "Male",
         "8.228.130.210",
         "32"
        ],
        [
         "21",
         "22",
         "North",
         "Egre",
         "negrel@simplemachines.org",
         "Non-binary",
         "234.233.47.238",
         "36"
        ],
        [
         "22",
         "23",
         "Chariot",
         "Bayns",
         "cbaynsm@flavors.me",
         "Male",
         "39.215.54.137",
         "57"
        ],
        [
         "23",
         "24",
         "Maurice",
         "Patchett",
         "mpatchettn@hostgator.com",
         "Male",
         "81.7.158.118",
         "53"
        ],
        [
         "24",
         "25",
         "Sterling",
         "Cheke",
         "schekeo@baidu.com",
         "Polygender",
         "55.50.211.191",
         "25"
        ],
        [
         "25",
         "26",
         "Ysabel",
         "Aitchinson",
         "yaitchinsonp@woothemes.com",
         "Female",
         "162.207.227.183",
         "35"
        ],
        [
         "26",
         "27",
         "Nanon",
         "Lamblin",
         "nlamblinq@networksolutions.com",
         "Female",
         "52.234.189.243",
         "50"
        ],
        [
         "27",
         "28",
         "Barnabe",
         "Dutteridge",
         "bdutteridger@redcross.org",
         "Male",
         "180.29.243.79",
         "39"
        ],
        [
         "28",
         "29",
         "Ximenes",
         "Pfaffe",
         "xpfaffes@globo.com",
         "Agender",
         "251.138.172.227",
         "62"
        ],
        [
         "29",
         "30",
         "Reynard",
         "Breeton",
         "rbreetont@nhs.uk",
         "Male",
         "35.207.155.210",
         "41"
        ],
        [
         "30",
         "31",
         "Gnni",
         "Steers",
         "gsteersu@sogou.com",
         "Female",
         "228.222.92.212",
         "57"
        ],
        [
         "31",
         "32",
         "Dur",
         "Wonham",
         "dwonhamv@berkeley.edu",
         "Male",
         "52.114.246.28",
         "49"
        ],
        [
         "32",
         "33",
         "Christye",
         "Eckford",
         "ceckfordw@fotki.com",
         "Female",
         "149.129.226.216",
         "37"
        ],
        [
         "33",
         "34",
         "Juliet",
         "Matias",
         "jmatiasx@sitemeter.com",
         "Female",
         "192.224.41.31",
         "29"
        ],
        [
         "34",
         "35",
         "Lucas",
         "Huske",
         "lhuskey@ifeng.com",
         "Male",
         "30.57.91.208",
         "25"
        ],
        [
         "35",
         "36",
         "Ronnie",
         "Fairbourne",
         "rfairbournez@bloglovin.com",
         "Female",
         "62.114.65.21",
         "22"
        ],
        [
         "36",
         "37",
         "Garnette",
         "Treleven",
         "gtreleven10@google.com.hk",
         "Female",
         "62.144.177.5",
         "65"
        ],
        [
         "37",
         "38",
         "Rahal",
         "Polly",
         "rpolly11@soup.io",
         "Female",
         "74.143.141.169",
         "21"
        ],
        [
         "38",
         "39",
         "Cindee",
         "Offell",
         "coffell12@vkontakte.ru",
         "Female",
         "71.189.253.211",
         "49"
        ],
        [
         "39",
         "40",
         "Hedwiga",
         "Bonder",
         "hbonder13@accuweather.com",
         "Female",
         "82.254.103.38",
         "23"
        ],
        [
         "40",
         "41",
         "Janeta",
         "Rusted",
         "jrusted14@springer.com",
         "Female",
         "101.134.9.209",
         "51"
        ],
        [
         "41",
         "42",
         "Theodosia",
         "De Maine",
         "tdemaine15@npr.org",
         "Genderqueer",
         "17.88.42.69",
         "22"
        ],
        [
         "42",
         "43",
         "Anne-corinne",
         "Blythin",
         "ablythin16@addtoany.com",
         "Female",
         "249.46.95.94",
         "19"
        ],
        [
         "43",
         "44",
         "Camey",
         "Ormiston",
         "cormiston17@dailymotion.com",
         "Male",
         "73.246.189.16",
         "53"
        ],
        [
         "44",
         "45",
         "Marijo",
         "Sandhill",
         "msandhill18@sciencedirect.com",
         "Female",
         "153.194.23.12",
         "30"
        ],
        [
         "45",
         "46",
         "Claire",
         "Streater",
         "cstreater19@wikia.com",
         "Male",
         "76.21.21.125",
         "64"
        ],
        [
         "46",
         "47",
         "Nealon",
         "Coudray",
         "ncoudray1a@apache.org",
         "Male",
         "166.132.75.136",
         "49"
        ],
        [
         "47",
         "48",
         "Oren",
         "Tranfield",
         "otranfield1b@youku.com",
         "Male",
         "80.79.187.93",
         "59"
        ],
        [
         "48",
         "49",
         "Rufus",
         "Bhar",
         "rbhar1c@toplist.cz",
         "Male",
         "238.10.230.21",
         "48"
        ],
        [
         "49",
         "50",
         "Nickie",
         "Enga",
         "nenga1d@tmall.com",
         "Female",
         "186.167.117.158",
         "63"
        ]
       ],
       "shape": {
        "columns": 7,
        "rows": 1000
       }
      },
      "text/html": [
       "<div>\n",
       "<style scoped>\n",
       "    .dataframe tbody tr th:only-of-type {\n",
       "        vertical-align: middle;\n",
       "    }\n",
       "\n",
       "    .dataframe tbody tr th {\n",
       "        vertical-align: top;\n",
       "    }\n",
       "\n",
       "    .dataframe thead th {\n",
       "        text-align: right;\n",
       "    }\n",
       "</style>\n",
       "<table border=\"1\" class=\"dataframe\">\n",
       "  <thead>\n",
       "    <tr style=\"text-align: right;\">\n",
       "      <th></th>\n",
       "      <th>id</th>\n",
       "      <th>first_name</th>\n",
       "      <th>last_name</th>\n",
       "      <th>email</th>\n",
       "      <th>gender</th>\n",
       "      <th>ip_address</th>\n",
       "      <th>age</th>\n",
       "    </tr>\n",
       "  </thead>\n",
       "  <tbody>\n",
       "    <tr>\n",
       "      <th>0</th>\n",
       "      <td>1</td>\n",
       "      <td>Zebulon</td>\n",
       "      <td>Sheara</td>\n",
       "      <td>zsheara0@buzzfeed.com</td>\n",
       "      <td>Male</td>\n",
       "      <td>26.254.115.173</td>\n",
       "      <td>57</td>\n",
       "    </tr>\n",
       "    <tr>\n",
       "      <th>1</th>\n",
       "      <td>2</td>\n",
       "      <td>Gabby</td>\n",
       "      <td>Hundy</td>\n",
       "      <td>ghundy1@dyndns.org</td>\n",
       "      <td>Male</td>\n",
       "      <td>86.222.142.186</td>\n",
       "      <td>28</td>\n",
       "    </tr>\n",
       "    <tr>\n",
       "      <th>2</th>\n",
       "      <td>3</td>\n",
       "      <td>Zaneta</td>\n",
       "      <td>Macewan</td>\n",
       "      <td>zmacewan2@dyndns.org</td>\n",
       "      <td>Female</td>\n",
       "      <td>20.98.185.65</td>\n",
       "      <td>57</td>\n",
       "    </tr>\n",
       "    <tr>\n",
       "      <th>3</th>\n",
       "      <td>4</td>\n",
       "      <td>Linn</td>\n",
       "      <td>Steely</td>\n",
       "      <td>lsteely3@psu.edu</td>\n",
       "      <td>Male</td>\n",
       "      <td>65.253.237.106</td>\n",
       "      <td>59</td>\n",
       "    </tr>\n",
       "    <tr>\n",
       "      <th>4</th>\n",
       "      <td>5</td>\n",
       "      <td>Althea</td>\n",
       "      <td>Segar</td>\n",
       "      <td>asegar4@prlog.org</td>\n",
       "      <td>Female</td>\n",
       "      <td>25.127.235.34</td>\n",
       "      <td>34</td>\n",
       "    </tr>\n",
       "    <tr>\n",
       "      <th>...</th>\n",
       "      <td>...</td>\n",
       "      <td>...</td>\n",
       "      <td>...</td>\n",
       "      <td>...</td>\n",
       "      <td>...</td>\n",
       "      <td>...</td>\n",
       "      <td>...</td>\n",
       "    </tr>\n",
       "    <tr>\n",
       "      <th>995</th>\n",
       "      <td>996</td>\n",
       "      <td>Zsa zsa</td>\n",
       "      <td>McGarahan</td>\n",
       "      <td>zmcgarahanrn@craigslist.org</td>\n",
       "      <td>Female</td>\n",
       "      <td>208.135.43.154</td>\n",
       "      <td>54</td>\n",
       "    </tr>\n",
       "    <tr>\n",
       "      <th>996</th>\n",
       "      <td>997</td>\n",
       "      <td>Al</td>\n",
       "      <td>Villiers</td>\n",
       "      <td>avilliersro@nydailynews.com</td>\n",
       "      <td>Agender</td>\n",
       "      <td>168.3.4.142</td>\n",
       "      <td>18</td>\n",
       "    </tr>\n",
       "    <tr>\n",
       "      <th>997</th>\n",
       "      <td>998</td>\n",
       "      <td>Natalina</td>\n",
       "      <td>Clavering</td>\n",
       "      <td>nclaveringrp@jugem.jp</td>\n",
       "      <td>Female</td>\n",
       "      <td>16.223.145.44</td>\n",
       "      <td>45</td>\n",
       "    </tr>\n",
       "    <tr>\n",
       "      <th>998</th>\n",
       "      <td>999</td>\n",
       "      <td>Gretta</td>\n",
       "      <td>Witheford</td>\n",
       "      <td>gwithefordrq@discovery.com</td>\n",
       "      <td>Female</td>\n",
       "      <td>61.83.241.246</td>\n",
       "      <td>53</td>\n",
       "    </tr>\n",
       "    <tr>\n",
       "      <th>999</th>\n",
       "      <td>1000</td>\n",
       "      <td>Tadio</td>\n",
       "      <td>Feighney</td>\n",
       "      <td>tfeighneyrr@google.es</td>\n",
       "      <td>Male</td>\n",
       "      <td>154.243.103.8</td>\n",
       "      <td>37</td>\n",
       "    </tr>\n",
       "  </tbody>\n",
       "</table>\n",
       "<p>1000 rows × 7 columns</p>\n",
       "</div>"
      ],
      "text/plain": [
       "       id first_name  last_name                        email   gender  \\\n",
       "0       1    Zebulon     Sheara        zsheara0@buzzfeed.com     Male   \n",
       "1       2      Gabby      Hundy           ghundy1@dyndns.org     Male   \n",
       "2       3     Zaneta    Macewan         zmacewan2@dyndns.org   Female   \n",
       "3       4       Linn     Steely             lsteely3@psu.edu     Male   \n",
       "4       5     Althea      Segar            asegar4@prlog.org   Female   \n",
       "..    ...        ...        ...                          ...      ...   \n",
       "995   996    Zsa zsa  McGarahan  zmcgarahanrn@craigslist.org   Female   \n",
       "996   997         Al   Villiers  avilliersro@nydailynews.com  Agender   \n",
       "997   998   Natalina  Clavering        nclaveringrp@jugem.jp   Female   \n",
       "998   999     Gretta  Witheford   gwithefordrq@discovery.com   Female   \n",
       "999  1000      Tadio   Feighney        tfeighneyrr@google.es     Male   \n",
       "\n",
       "         ip_address  age  \n",
       "0    26.254.115.173   57  \n",
       "1    86.222.142.186   28  \n",
       "2      20.98.185.65   57  \n",
       "3    65.253.237.106   59  \n",
       "4     25.127.235.34   34  \n",
       "..              ...  ...  \n",
       "995  208.135.43.154   54  \n",
       "996     168.3.4.142   18  \n",
       "997   16.223.145.44   45  \n",
       "998   61.83.241.246   53  \n",
       "999   154.243.103.8   37  \n",
       "\n",
       "[1000 rows x 7 columns]"
      ]
     },
     "execution_count": 19,
     "metadata": {},
     "output_type": "execute_result"
    }
   ],
   "source": [
    "# 1 - СПОСОБ!!!!!!!!!!!!!!!!!!!!!!!!!!!!!!!!!!!!!!!!!\n",
    "\n",
    "# age = []\n",
    "# for x in range(0, 1000):\n",
    "#     x = random.randint(18, 65)\n",
    "#     age.append(x)\n",
    "# df['age'] = age\n",
    "\n",
    "# 2 - способ!!!!!!!!!!!!!!!!!!!!!!!!!!!!!!!!!!!!!!!!!!\n",
    "df['age'] = np.random.randint(18, 66, size=len(df['id']))\n",
    "df"
   ]
  },
  {
   "cell_type": "markdown",
   "metadata": {},
   "source": [
    "Разделите пользователей на возрастные группы: 18-25, 26-35, 36-50, 51+."
   ]
  },
  {
   "cell_type": "code",
   "execution_count": 26,
   "metadata": {},
   "outputs": [
    {
     "data": {
      "application/vnd.microsoft.datawrangler.viewer.v0+json": {
       "columns": [
        {
         "name": "index",
         "rawType": "int64",
         "type": "integer"
        },
        {
         "name": "id",
         "rawType": "int64",
         "type": "integer"
        },
        {
         "name": "first_name",
         "rawType": "object",
         "type": "string"
        },
        {
         "name": "last_name",
         "rawType": "object",
         "type": "string"
        },
        {
         "name": "email",
         "rawType": "object",
         "type": "string"
        },
        {
         "name": "gender",
         "rawType": "object",
         "type": "string"
        },
        {
         "name": "ip_address",
         "rawType": "object",
         "type": "string"
        },
        {
         "name": "age",
         "rawType": "int32",
         "type": "integer"
        },
        {
         "name": "age_group",
         "rawType": "category",
         "type": "unknown"
        }
       ],
       "conversionMethod": "pd.DataFrame",
       "ref": "b7305cbe-0439-4465-91d5-98dec4c28bff",
       "rows": [
        [
         "0",
         "1",
         "Zebulon",
         "Sheara",
         "zsheara0@buzzfeed.com",
         "Male",
         "26.254.115.173",
         "57",
         "51-65"
        ],
        [
         "1",
         "2",
         "Gabby",
         "Hundy",
         "ghundy1@dyndns.org",
         "Male",
         "86.222.142.186",
         "28",
         "26-35"
        ],
        [
         "2",
         "3",
         "Zaneta",
         "Macewan",
         "zmacewan2@dyndns.org",
         "Female",
         "20.98.185.65",
         "57",
         "51-65"
        ],
        [
         "3",
         "4",
         "Linn",
         "Steely",
         "lsteely3@psu.edu",
         "Male",
         "65.253.237.106",
         "59",
         "51-65"
        ],
        [
         "4",
         "5",
         "Althea",
         "Segar",
         "asegar4@prlog.org",
         "Female",
         "25.127.235.34",
         "34",
         "26-35"
        ],
        [
         "5",
         "6",
         "Poppy",
         "Kinnard",
         "pkinnard5@mozilla.org",
         "Female",
         "246.66.172.88",
         "62",
         "51-65"
        ],
        [
         "6",
         "7",
         "Tanhya",
         "Allabarton",
         "tallabarton6@eepurl.com",
         "Female",
         "71.244.198.196",
         "20",
         "18-25"
        ],
        [
         "7",
         "8",
         "Anetta",
         "Herety",
         "aherety7@github.io",
         "Female",
         "40.45.249.248",
         "44",
         "36-50"
        ],
        [
         "8",
         "9",
         "Kaile",
         "Clementson",
         "kclementson8@rediff.com",
         "Female",
         "147.21.239.61",
         "37",
         "36-50"
        ],
        [
         "9",
         "10",
         "Blanche",
         "Akehurst",
         "bakehurst9@newsvine.com",
         "Female",
         "219.148.148.134",
         "50",
         "36-50"
        ],
        [
         "10",
         "11",
         "Melosa",
         "Boneham",
         "mbonehama@quantcast.com",
         "Female",
         "176.120.71.216",
         "43",
         "36-50"
        ],
        [
         "11",
         "12",
         "Deina",
         "Frisdick",
         "dfrisdickb@bbc.co.uk",
         "Female",
         "146.176.89.94",
         "36",
         "36-50"
        ],
        [
         "12",
         "13",
         "Conrad",
         "Ceillier",
         "cceillierc@squarespace.com",
         "Male",
         "77.176.126.146",
         "63",
         "51-65"
        ],
        [
         "13",
         "14",
         "Nev",
         "Lavies",
         "nlaviesd@si.edu",
         "Male",
         "21.101.254.200",
         "19",
         "18-25"
        ],
        [
         "14",
         "15",
         "Hyacinth",
         "Keuntje",
         "hkeuntjee@about.com",
         "Female",
         "226.2.36.254",
         "53",
         "51-65"
        ],
        [
         "15",
         "16",
         "Mamie",
         "Wainwright",
         "mwainwrightf@studiopress.com",
         "Female",
         "163.100.199.174",
         "63",
         "51-65"
        ],
        [
         "16",
         "17",
         "Humfried",
         "Ohanessian",
         "hohanessiang@wufoo.com",
         "Male",
         "16.207.33.214",
         "25",
         "18-25"
        ],
        [
         "17",
         "18",
         "Terence",
         "Willans",
         "twillansh@cornell.edu",
         "Male",
         "62.154.238.220",
         "52",
         "51-65"
        ],
        [
         "18",
         "19",
         "Auria",
         "Barnwall",
         "abarnwalli@jiathis.com",
         "Female",
         "226.19.92.82",
         "34",
         "26-35"
        ],
        [
         "19",
         "20",
         "Donal",
         "Cosgrove",
         "dcosgrovej@walmart.com",
         "Male",
         "234.120.141.220",
         "65",
         "51-65"
        ],
        [
         "20",
         "21",
         "Abbott",
         "Cumberledge",
         "acumberledgek@aboutads.info",
         "Male",
         "8.228.130.210",
         "32",
         "26-35"
        ],
        [
         "21",
         "22",
         "North",
         "Egre",
         "negrel@simplemachines.org",
         "Non-binary",
         "234.233.47.238",
         "36",
         "36-50"
        ],
        [
         "22",
         "23",
         "Chariot",
         "Bayns",
         "cbaynsm@flavors.me",
         "Male",
         "39.215.54.137",
         "57",
         "51-65"
        ],
        [
         "23",
         "24",
         "Maurice",
         "Patchett",
         "mpatchettn@hostgator.com",
         "Male",
         "81.7.158.118",
         "53",
         "51-65"
        ],
        [
         "24",
         "25",
         "Sterling",
         "Cheke",
         "schekeo@baidu.com",
         "Polygender",
         "55.50.211.191",
         "25",
         "18-25"
        ],
        [
         "25",
         "26",
         "Ysabel",
         "Aitchinson",
         "yaitchinsonp@woothemes.com",
         "Female",
         "162.207.227.183",
         "35",
         "26-35"
        ],
        [
         "26",
         "27",
         "Nanon",
         "Lamblin",
         "nlamblinq@networksolutions.com",
         "Female",
         "52.234.189.243",
         "50",
         "36-50"
        ],
        [
         "27",
         "28",
         "Barnabe",
         "Dutteridge",
         "bdutteridger@redcross.org",
         "Male",
         "180.29.243.79",
         "39",
         "36-50"
        ],
        [
         "28",
         "29",
         "Ximenes",
         "Pfaffe",
         "xpfaffes@globo.com",
         "Agender",
         "251.138.172.227",
         "62",
         "51-65"
        ],
        [
         "29",
         "30",
         "Reynard",
         "Breeton",
         "rbreetont@nhs.uk",
         "Male",
         "35.207.155.210",
         "41",
         "36-50"
        ],
        [
         "30",
         "31",
         "Gnni",
         "Steers",
         "gsteersu@sogou.com",
         "Female",
         "228.222.92.212",
         "57",
         "51-65"
        ],
        [
         "31",
         "32",
         "Dur",
         "Wonham",
         "dwonhamv@berkeley.edu",
         "Male",
         "52.114.246.28",
         "49",
         "36-50"
        ],
        [
         "32",
         "33",
         "Christye",
         "Eckford",
         "ceckfordw@fotki.com",
         "Female",
         "149.129.226.216",
         "37",
         "36-50"
        ],
        [
         "33",
         "34",
         "Juliet",
         "Matias",
         "jmatiasx@sitemeter.com",
         "Female",
         "192.224.41.31",
         "29",
         "26-35"
        ],
        [
         "34",
         "35",
         "Lucas",
         "Huske",
         "lhuskey@ifeng.com",
         "Male",
         "30.57.91.208",
         "25",
         "18-25"
        ],
        [
         "35",
         "36",
         "Ronnie",
         "Fairbourne",
         "rfairbournez@bloglovin.com",
         "Female",
         "62.114.65.21",
         "22",
         "18-25"
        ],
        [
         "36",
         "37",
         "Garnette",
         "Treleven",
         "gtreleven10@google.com.hk",
         "Female",
         "62.144.177.5",
         "65",
         "51-65"
        ],
        [
         "37",
         "38",
         "Rahal",
         "Polly",
         "rpolly11@soup.io",
         "Female",
         "74.143.141.169",
         "21",
         "18-25"
        ],
        [
         "38",
         "39",
         "Cindee",
         "Offell",
         "coffell12@vkontakte.ru",
         "Female",
         "71.189.253.211",
         "49",
         "36-50"
        ],
        [
         "39",
         "40",
         "Hedwiga",
         "Bonder",
         "hbonder13@accuweather.com",
         "Female",
         "82.254.103.38",
         "23",
         "18-25"
        ],
        [
         "40",
         "41",
         "Janeta",
         "Rusted",
         "jrusted14@springer.com",
         "Female",
         "101.134.9.209",
         "51",
         "51-65"
        ],
        [
         "41",
         "42",
         "Theodosia",
         "De Maine",
         "tdemaine15@npr.org",
         "Genderqueer",
         "17.88.42.69",
         "22",
         "18-25"
        ],
        [
         "42",
         "43",
         "Anne-corinne",
         "Blythin",
         "ablythin16@addtoany.com",
         "Female",
         "249.46.95.94",
         "19",
         "18-25"
        ],
        [
         "43",
         "44",
         "Camey",
         "Ormiston",
         "cormiston17@dailymotion.com",
         "Male",
         "73.246.189.16",
         "53",
         "51-65"
        ],
        [
         "44",
         "45",
         "Marijo",
         "Sandhill",
         "msandhill18@sciencedirect.com",
         "Female",
         "153.194.23.12",
         "30",
         "26-35"
        ],
        [
         "45",
         "46",
         "Claire",
         "Streater",
         "cstreater19@wikia.com",
         "Male",
         "76.21.21.125",
         "64",
         "51-65"
        ],
        [
         "46",
         "47",
         "Nealon",
         "Coudray",
         "ncoudray1a@apache.org",
         "Male",
         "166.132.75.136",
         "49",
         "36-50"
        ],
        [
         "47",
         "48",
         "Oren",
         "Tranfield",
         "otranfield1b@youku.com",
         "Male",
         "80.79.187.93",
         "59",
         "51-65"
        ],
        [
         "48",
         "49",
         "Rufus",
         "Bhar",
         "rbhar1c@toplist.cz",
         "Male",
         "238.10.230.21",
         "48",
         "36-50"
        ],
        [
         "49",
         "50",
         "Nickie",
         "Enga",
         "nenga1d@tmall.com",
         "Female",
         "186.167.117.158",
         "63",
         "51-65"
        ]
       ],
       "shape": {
        "columns": 8,
        "rows": 1000
       }
      },
      "text/html": [
       "<div>\n",
       "<style scoped>\n",
       "    .dataframe tbody tr th:only-of-type {\n",
       "        vertical-align: middle;\n",
       "    }\n",
       "\n",
       "    .dataframe tbody tr th {\n",
       "        vertical-align: top;\n",
       "    }\n",
       "\n",
       "    .dataframe thead th {\n",
       "        text-align: right;\n",
       "    }\n",
       "</style>\n",
       "<table border=\"1\" class=\"dataframe\">\n",
       "  <thead>\n",
       "    <tr style=\"text-align: right;\">\n",
       "      <th></th>\n",
       "      <th>id</th>\n",
       "      <th>first_name</th>\n",
       "      <th>last_name</th>\n",
       "      <th>email</th>\n",
       "      <th>gender</th>\n",
       "      <th>ip_address</th>\n",
       "      <th>age</th>\n",
       "      <th>age_group</th>\n",
       "    </tr>\n",
       "  </thead>\n",
       "  <tbody>\n",
       "    <tr>\n",
       "      <th>0</th>\n",
       "      <td>1</td>\n",
       "      <td>Zebulon</td>\n",
       "      <td>Sheara</td>\n",
       "      <td>zsheara0@buzzfeed.com</td>\n",
       "      <td>Male</td>\n",
       "      <td>26.254.115.173</td>\n",
       "      <td>57</td>\n",
       "      <td>51-65</td>\n",
       "    </tr>\n",
       "    <tr>\n",
       "      <th>1</th>\n",
       "      <td>2</td>\n",
       "      <td>Gabby</td>\n",
       "      <td>Hundy</td>\n",
       "      <td>ghundy1@dyndns.org</td>\n",
       "      <td>Male</td>\n",
       "      <td>86.222.142.186</td>\n",
       "      <td>28</td>\n",
       "      <td>26-35</td>\n",
       "    </tr>\n",
       "    <tr>\n",
       "      <th>2</th>\n",
       "      <td>3</td>\n",
       "      <td>Zaneta</td>\n",
       "      <td>Macewan</td>\n",
       "      <td>zmacewan2@dyndns.org</td>\n",
       "      <td>Female</td>\n",
       "      <td>20.98.185.65</td>\n",
       "      <td>57</td>\n",
       "      <td>51-65</td>\n",
       "    </tr>\n",
       "    <tr>\n",
       "      <th>3</th>\n",
       "      <td>4</td>\n",
       "      <td>Linn</td>\n",
       "      <td>Steely</td>\n",
       "      <td>lsteely3@psu.edu</td>\n",
       "      <td>Male</td>\n",
       "      <td>65.253.237.106</td>\n",
       "      <td>59</td>\n",
       "      <td>51-65</td>\n",
       "    </tr>\n",
       "    <tr>\n",
       "      <th>4</th>\n",
       "      <td>5</td>\n",
       "      <td>Althea</td>\n",
       "      <td>Segar</td>\n",
       "      <td>asegar4@prlog.org</td>\n",
       "      <td>Female</td>\n",
       "      <td>25.127.235.34</td>\n",
       "      <td>34</td>\n",
       "      <td>26-35</td>\n",
       "    </tr>\n",
       "    <tr>\n",
       "      <th>...</th>\n",
       "      <td>...</td>\n",
       "      <td>...</td>\n",
       "      <td>...</td>\n",
       "      <td>...</td>\n",
       "      <td>...</td>\n",
       "      <td>...</td>\n",
       "      <td>...</td>\n",
       "      <td>...</td>\n",
       "    </tr>\n",
       "    <tr>\n",
       "      <th>995</th>\n",
       "      <td>996</td>\n",
       "      <td>Zsa zsa</td>\n",
       "      <td>McGarahan</td>\n",
       "      <td>zmcgarahanrn@craigslist.org</td>\n",
       "      <td>Female</td>\n",
       "      <td>208.135.43.154</td>\n",
       "      <td>54</td>\n",
       "      <td>51-65</td>\n",
       "    </tr>\n",
       "    <tr>\n",
       "      <th>996</th>\n",
       "      <td>997</td>\n",
       "      <td>Al</td>\n",
       "      <td>Villiers</td>\n",
       "      <td>avilliersro@nydailynews.com</td>\n",
       "      <td>Agender</td>\n",
       "      <td>168.3.4.142</td>\n",
       "      <td>18</td>\n",
       "      <td>18-25</td>\n",
       "    </tr>\n",
       "    <tr>\n",
       "      <th>997</th>\n",
       "      <td>998</td>\n",
       "      <td>Natalina</td>\n",
       "      <td>Clavering</td>\n",
       "      <td>nclaveringrp@jugem.jp</td>\n",
       "      <td>Female</td>\n",
       "      <td>16.223.145.44</td>\n",
       "      <td>45</td>\n",
       "      <td>36-50</td>\n",
       "    </tr>\n",
       "    <tr>\n",
       "      <th>998</th>\n",
       "      <td>999</td>\n",
       "      <td>Gretta</td>\n",
       "      <td>Witheford</td>\n",
       "      <td>gwithefordrq@discovery.com</td>\n",
       "      <td>Female</td>\n",
       "      <td>61.83.241.246</td>\n",
       "      <td>53</td>\n",
       "      <td>51-65</td>\n",
       "    </tr>\n",
       "    <tr>\n",
       "      <th>999</th>\n",
       "      <td>1000</td>\n",
       "      <td>Tadio</td>\n",
       "      <td>Feighney</td>\n",
       "      <td>tfeighneyrr@google.es</td>\n",
       "      <td>Male</td>\n",
       "      <td>154.243.103.8</td>\n",
       "      <td>37</td>\n",
       "      <td>36-50</td>\n",
       "    </tr>\n",
       "  </tbody>\n",
       "</table>\n",
       "<p>1000 rows × 8 columns</p>\n",
       "</div>"
      ],
      "text/plain": [
       "       id first_name  last_name                        email   gender  \\\n",
       "0       1    Zebulon     Sheara        zsheara0@buzzfeed.com     Male   \n",
       "1       2      Gabby      Hundy           ghundy1@dyndns.org     Male   \n",
       "2       3     Zaneta    Macewan         zmacewan2@dyndns.org   Female   \n",
       "3       4       Linn     Steely             lsteely3@psu.edu     Male   \n",
       "4       5     Althea      Segar            asegar4@prlog.org   Female   \n",
       "..    ...        ...        ...                          ...      ...   \n",
       "995   996    Zsa zsa  McGarahan  zmcgarahanrn@craigslist.org   Female   \n",
       "996   997         Al   Villiers  avilliersro@nydailynews.com  Agender   \n",
       "997   998   Natalina  Clavering        nclaveringrp@jugem.jp   Female   \n",
       "998   999     Gretta  Witheford   gwithefordrq@discovery.com   Female   \n",
       "999  1000      Tadio   Feighney        tfeighneyrr@google.es     Male   \n",
       "\n",
       "         ip_address  age age_group  \n",
       "0    26.254.115.173   57     51-65  \n",
       "1    86.222.142.186   28     26-35  \n",
       "2      20.98.185.65   57     51-65  \n",
       "3    65.253.237.106   59     51-65  \n",
       "4     25.127.235.34   34     26-35  \n",
       "..              ...  ...       ...  \n",
       "995  208.135.43.154   54     51-65  \n",
       "996     168.3.4.142   18     18-25  \n",
       "997   16.223.145.44   45     36-50  \n",
       "998   61.83.241.246   53     51-65  \n",
       "999   154.243.103.8   37     36-50  \n",
       "\n",
       "[1000 rows x 8 columns]"
      ]
     },
     "execution_count": 26,
     "metadata": {},
     "output_type": "execute_result"
    }
   ],
   "source": [
    "bins = [17, 25, 35, 50, 65] # Границы интервалов\n",
    "labels = ['18-25', '26-35', '36-50', '51-65']  # Названия групп\n",
    "\n",
    "df['age_group'] = pd.cut(df['age'], bins=bins, labels=labels, right=True)\n",
    "df"
   ]
  },
  {
   "cell_type": "markdown",
   "metadata": {},
   "source": [
    "- Подсчитайте количество пользователей в каждой группе."
   ]
  },
  {
   "cell_type": "code",
   "execution_count": 28,
   "metadata": {},
   "outputs": [
    {
     "data": {
      "text/plain": [
       "age_group\n",
       "51-65    319\n",
       "36-50    309\n",
       "26-35    209\n",
       "18-25    163\n",
       "Name: count, dtype: int64"
      ]
     },
     "execution_count": 28,
     "metadata": {},
     "output_type": "execute_result"
    }
   ],
   "source": [
    "df['age_group'].value_counts()\n"
   ]
  },
  {
   "cell_type": "markdown",
   "metadata": {},
   "source": [
    "- Найдите средний возраст для каждой группы."
   ]
  },
  {
   "cell_type": "code",
   "execution_count": 30,
   "metadata": {},
   "outputs": [
    {
     "name": "stderr",
     "output_type": "stream",
     "text": [
      "C:\\Users\\serge\\AppData\\Local\\Temp\\ipykernel_27700\\622234994.py:1: FutureWarning: The default of observed=False is deprecated and will be changed to True in a future version of pandas. Pass observed=False to retain current behavior or observed=True to adopt the future default and silence this warning.\n",
      "  df.groupby('age_group')['age'].mean()\n"
     ]
    },
    {
     "data": {
      "text/plain": [
       "age_group\n",
       "18-25    21.564417\n",
       "26-35    30.617225\n",
       "36-50    43.223301\n",
       "51-65    57.974922\n",
       "Name: age, dtype: float64"
      ]
     },
     "execution_count": 30,
     "metadata": {},
     "output_type": "execute_result"
    }
   ],
   "source": [
    "df.groupby('age_group')['age'].mean()"
   ]
  }
 ],
 "metadata": {
  "kernelspec": {
   "display_name": "venv",
   "language": "python",
   "name": "python3"
  },
  "language_info": {
   "codemirror_mode": {
    "name": "ipython",
    "version": 3
   },
   "file_extension": ".py",
   "mimetype": "text/x-python",
   "name": "python",
   "nbconvert_exporter": "python",
   "pygments_lexer": "ipython3",
   "version": "3.12.9"
  }
 },
 "nbformat": 4,
 "nbformat_minor": 2
}
