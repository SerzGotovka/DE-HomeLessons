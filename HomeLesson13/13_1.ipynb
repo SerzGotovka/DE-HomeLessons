{
 "cells": [
  {
   "cell_type": "markdown",
   "metadata": {},
   "source": [
    "ЗАДАНИЯ С БАЗОЙ ДАННЫХ:\n",
    "1. Вытащите данные и найдите средний возраст клиентов из Минска\n",
    "2. Выведите список всех клиентов с балансом больше 1000\n",
    "3. Подсчитайте количество транзакций по каждому типу\n",
    "4. Определите клиентов с наибольшими расходами (отрицательные суммы транзакций)\n",
    "5. Топ-3 клиента по количеству транзакций\n",
    "6. Выявление подозрительных операций, операции > n% от баланса"
   ]
  },
  {
   "cell_type": "code",
   "execution_count": null,
   "metadata": {},
   "outputs": [
    {
     "data": {
      "application/vnd.microsoft.datawrangler.viewer.v0+json": {
       "columns": [
        {
         "name": "index",
         "rawType": "int64",
         "type": "integer"
        },
        {
         "name": "client_id",
         "rawType": "int64",
         "type": "integer"
        },
        {
         "name": "name",
         "rawType": "object",
         "type": "string"
        },
        {
         "name": "age",
         "rawType": "int64",
         "type": "integer"
        },
        {
         "name": "city",
         "rawType": "object",
         "type": "string"
        },
        {
         "name": "account_number",
         "rawType": "int64",
         "type": "integer"
        }
       ],
       "conversionMethod": "pd.DataFrame",
       "ref": "a04c4a4b-b16a-44a2-ad7e-c897a636a4ec",
       "rows": [
        [
         "0",
         "1",
         "Василий",
         "34",
         "Минск",
         "1001"
        ],
        [
         "1",
         "2",
         "Екатерина",
         "28",
         "Москва",
         "1002"
        ],
        [
         "2",
         "3",
         "Мария",
         "45",
         "Гродно",
         "1003"
        ],
        [
         "3",
         "4",
         "Михаил",
         "37",
         "Витебск",
         "1004"
        ],
        [
         "4",
         "5",
         "Евгения",
         "29",
         "Минск",
         "1005"
        ]
       ],
       "shape": {
        "columns": 5,
        "rows": 5
       }
      },
      "text/html": [
       "<div>\n",
       "<style scoped>\n",
       "    .dataframe tbody tr th:only-of-type {\n",
       "        vertical-align: middle;\n",
       "    }\n",
       "\n",
       "    .dataframe tbody tr th {\n",
       "        vertical-align: top;\n",
       "    }\n",
       "\n",
       "    .dataframe thead th {\n",
       "        text-align: right;\n",
       "    }\n",
       "</style>\n",
       "<table border=\"1\" class=\"dataframe\">\n",
       "  <thead>\n",
       "    <tr style=\"text-align: right;\">\n",
       "      <th></th>\n",
       "      <th>client_id</th>\n",
       "      <th>name</th>\n",
       "      <th>age</th>\n",
       "      <th>city</th>\n",
       "      <th>account_number</th>\n",
       "    </tr>\n",
       "  </thead>\n",
       "  <tbody>\n",
       "    <tr>\n",
       "      <th>0</th>\n",
       "      <td>1</td>\n",
       "      <td>Василий</td>\n",
       "      <td>34</td>\n",
       "      <td>Минск</td>\n",
       "      <td>1001</td>\n",
       "    </tr>\n",
       "    <tr>\n",
       "      <th>1</th>\n",
       "      <td>2</td>\n",
       "      <td>Екатерина</td>\n",
       "      <td>28</td>\n",
       "      <td>Москва</td>\n",
       "      <td>1002</td>\n",
       "    </tr>\n",
       "    <tr>\n",
       "      <th>2</th>\n",
       "      <td>3</td>\n",
       "      <td>Мария</td>\n",
       "      <td>45</td>\n",
       "      <td>Гродно</td>\n",
       "      <td>1003</td>\n",
       "    </tr>\n",
       "    <tr>\n",
       "      <th>3</th>\n",
       "      <td>4</td>\n",
       "      <td>Михаил</td>\n",
       "      <td>37</td>\n",
       "      <td>Витебск</td>\n",
       "      <td>1004</td>\n",
       "    </tr>\n",
       "    <tr>\n",
       "      <th>4</th>\n",
       "      <td>5</td>\n",
       "      <td>Евгения</td>\n",
       "      <td>29</td>\n",
       "      <td>Минск</td>\n",
       "      <td>1005</td>\n",
       "    </tr>\n",
       "  </tbody>\n",
       "</table>\n",
       "</div>"
      ],
      "text/plain": [
       "   client_id       name  age     city  account_number\n",
       "0          1    Василий   34    Минск            1001\n",
       "1          2  Екатерина   28   Москва            1002\n",
       "2          3      Мария   45   Гродно            1003\n",
       "3          4     Михаил   37  Витебск            1004\n",
       "4          5    Евгения   29    Минск            1005"
      ]
     },
     "execution_count": 4,
     "metadata": {},
     "output_type": "execute_result"
    }
   ],
   "source": [
    "import pandas as pd\n",
    "import pandasql as ps\n",
    "import sqlite3\n",
    "\n",
    "with  sqlite3.connect('database.db') as conn:\n",
    "    df_clients = pd.read_sql('select * from clients', conn)\n",
    "    df_balance = pd.read_sql('select * from balance', conn)\n",
    "    df_transaction = pd.read_sql('select * from transactions', conn)\n",
    "df_clients"
   ]
  },
  {
   "cell_type": "markdown",
   "metadata": {},
   "source": [
    "1. Вытащите данные и найдите средний возраст клиентов из Минска"
   ]
  },
  {
   "cell_type": "code",
   "execution_count": null,
   "metadata": {},
   "outputs": [
    {
     "data": {
      "text/plain": [
       "np.float64(31.5)"
      ]
     },
     "execution_count": 9,
     "metadata": {},
     "output_type": "execute_result"
    }
   ],
   "source": [
    "# query = ('select avg(age) from df_clients where city = \"Минск\"')\n",
    "# result = ps.sqldf(query)\n",
    "\n",
    "clients_minsk  = df_clients.query('city == \"Минск\"')\n",
    "clients_minsk['age'].mean()\n",
    "\n"
   ]
  },
  {
   "cell_type": "markdown",
   "metadata": {},
   "source": [
    "Выведите список всех клиентов с балансом больше 1000"
   ]
  },
  {
   "cell_type": "code",
   "execution_count": 12,
   "metadata": {},
   "outputs": [
    {
     "data": {
      "application/vnd.microsoft.datawrangler.viewer.v0+json": {
       "columns": [
        {
         "name": "index",
         "rawType": "int64",
         "type": "integer"
        },
        {
         "name": "client_id",
         "rawType": "int64",
         "type": "integer"
        },
        {
         "name": "amount",
         "rawType": "int64",
         "type": "integer"
        }
       ],
       "conversionMethod": "pd.DataFrame",
       "ref": "aeb7f71a-eed1-4a49-8a2e-57cf7d71015e",
       "rows": [
        [
         "1",
         "2",
         "1500"
        ],
        [
         "3",
         "4",
         "2000"
        ],
        [
         "4",
         "5",
         "1200"
        ]
       ],
       "shape": {
        "columns": 2,
        "rows": 3
       }
      },
      "text/html": [
       "<div>\n",
       "<style scoped>\n",
       "    .dataframe tbody tr th:only-of-type {\n",
       "        vertical-align: middle;\n",
       "    }\n",
       "\n",
       "    .dataframe tbody tr th {\n",
       "        vertical-align: top;\n",
       "    }\n",
       "\n",
       "    .dataframe thead th {\n",
       "        text-align: right;\n",
       "    }\n",
       "</style>\n",
       "<table border=\"1\" class=\"dataframe\">\n",
       "  <thead>\n",
       "    <tr style=\"text-align: right;\">\n",
       "      <th></th>\n",
       "      <th>client_id</th>\n",
       "      <th>amount</th>\n",
       "    </tr>\n",
       "  </thead>\n",
       "  <tbody>\n",
       "    <tr>\n",
       "      <th>1</th>\n",
       "      <td>2</td>\n",
       "      <td>1500</td>\n",
       "    </tr>\n",
       "    <tr>\n",
       "      <th>3</th>\n",
       "      <td>4</td>\n",
       "      <td>2000</td>\n",
       "    </tr>\n",
       "    <tr>\n",
       "      <th>4</th>\n",
       "      <td>5</td>\n",
       "      <td>1200</td>\n",
       "    </tr>\n",
       "  </tbody>\n",
       "</table>\n",
       "</div>"
      ],
      "text/plain": [
       "   client_id  amount\n",
       "1          2    1500\n",
       "3          4    2000\n",
       "4          5    1200"
      ]
     },
     "execution_count": 12,
     "metadata": {},
     "output_type": "execute_result"
    }
   ],
   "source": [
    "# query = ('select * from df_balance where amount > 1000')\n",
    "# result = ps.sqldf(query)\n",
    "# result\n",
    "\n",
    "balance = df_balance.query('amount > 1000')\n",
    "balance\n"
   ]
  },
  {
   "cell_type": "markdown",
   "metadata": {},
   "source": [
    "Подсчитайте количество транзакций по каждому типу"
   ]
  },
  {
   "cell_type": "code",
   "execution_count": 17,
   "metadata": {},
   "outputs": [
    {
     "data": {
      "text/plain": [
       "type\n",
       "deposit       5\n",
       "withdrawal    5\n",
       "Name: type, dtype: int64"
      ]
     },
     "execution_count": 17,
     "metadata": {},
     "output_type": "execute_result"
    }
   ],
   "source": [
    "# query = ('select type, count(*) from df_transaction group by type')\n",
    "# result = ps.sqldf(query)\n",
    "# result\n",
    "\n",
    "df_transaction.groupby('type')['type'].count()"
   ]
  },
  {
   "cell_type": "markdown",
   "metadata": {},
   "source": [
    "Определите клиентов с наибольшими расходами (отрицательные суммы транзакций)"
   ]
  },
  {
   "cell_type": "code",
   "execution_count": null,
   "metadata": {},
   "outputs": [
    {
     "data": {
      "text/plain": [
       "transaction_id                 2\n",
       "client_id                      1\n",
       "date                  2025-03-02\n",
       "amount                       -70\n",
       "type                  withdrawal\n",
       "description       ATM withdrawal\n",
       "dtype: object"
      ]
     },
     "execution_count": 24,
     "metadata": {},
     "output_type": "execute_result"
    }
   ],
   "source": [
    "# query = ('select client_id, min(amount) from df_transaction where amount < 0')\n",
    "# result =ps.sqldf(query)\n",
    "# result\n",
    "\n",
    "df_transaction.query('amount < 0').min()"
   ]
  },
  {
   "cell_type": "markdown",
   "metadata": {},
   "source": [
    "Топ-3 клиента по количеству транзакций"
   ]
  },
  {
   "cell_type": "code",
   "execution_count": 48,
   "metadata": {},
   "outputs": [
    {
     "data": {
      "text/plain": [
       "client_id\n",
       "1    2\n",
       "2    2\n",
       "3    2\n",
       "Name: transaction_id, dtype: int64"
      ]
     },
     "execution_count": 48,
     "metadata": {},
     "output_type": "execute_result"
    }
   ],
   "source": [
    "query = ('select client_id, count(*) as count from df_transaction group by client_id order by count DESC limit 3')\n",
    "result = ps.sqldf(query)\n",
    "result\n",
    "\n",
    "\n",
    "df_transaction.groupby('client_id').count().sort_values(by='transaction_id', ascending=False)['transaction_id'].head(3)"
   ]
  },
  {
   "cell_type": "markdown",
   "metadata": {},
   "source": [
    "6. Выявление подозрительных операций, операции > n% от баланса"
   ]
  },
  {
   "cell_type": "code",
   "execution_count": 81,
   "metadata": {},
   "outputs": [
    {
     "data": {
      "application/vnd.microsoft.datawrangler.viewer.v0+json": {
       "columns": [
        {
         "name": "index",
         "rawType": "int64",
         "type": "integer"
        },
        {
         "name": "client_id",
         "rawType": "int64",
         "type": "integer"
        },
        {
         "name": "amount_x",
         "rawType": "int64",
         "type": "integer"
        },
        {
         "name": "transaction_id",
         "rawType": "int64",
         "type": "integer"
        },
        {
         "name": "date",
         "rawType": "object",
         "type": "string"
        },
        {
         "name": "amount_y",
         "rawType": "int64",
         "type": "integer"
        },
        {
         "name": "type",
         "rawType": "object",
         "type": "string"
        },
        {
         "name": "description",
         "rawType": "object",
         "type": "string"
        }
       ],
       "conversionMethod": "pd.DataFrame",
       "ref": "ff3a4f0e-a770-4f1f-862b-47088f8dd92b",
       "rows": [
        [
         "0",
         "1",
         "1000",
         "1",
         "2025-03-01",
         "150",
         "deposit",
         "Salary"
        ],
        [
         "1",
         "1",
         "1000",
         "2",
         "2025-03-02",
         "-50",
         "withdrawal",
         "ATM withdrawal"
        ],
        [
         "2",
         "2",
         "1500",
         "3",
         "2025-03-01",
         "200",
         "deposit",
         "Freelance payment"
        ],
        [
         "3",
         "2",
         "1500",
         "4",
         "2025-03-03",
         "-30",
         "withdrawal",
         "Grocery store"
        ],
        [
         "4",
         "3",
         "800",
         "5",
         "2025-03-02",
         "100",
         "deposit",
         "Transfer from friend"
        ],
        [
         "5",
         "3",
         "800",
         "6",
         "2025-03-04",
         "-20",
         "withdrawal",
         "Coffee shop"
        ],
        [
         "6",
         "4",
         "2000",
         "7",
         "2025-03-03",
         "300",
         "deposit",
         "Bonus"
        ],
        [
         "7",
         "4",
         "2000",
         "8",
         "2025-03-05",
         "-70",
         "withdrawal",
         "Restaurant"
        ],
        [
         "8",
         "5",
         "1200",
         "9",
         "2025-03-04",
         "250",
         "deposit",
         "Investment return"
        ],
        [
         "9",
         "5",
         "1200",
         "10",
         "2025-03-06",
         "-40",
         "withdrawal",
         "Shopping"
        ]
       ],
       "shape": {
        "columns": 7,
        "rows": 10
       }
      },
      "text/html": [
       "<div>\n",
       "<style scoped>\n",
       "    .dataframe tbody tr th:only-of-type {\n",
       "        vertical-align: middle;\n",
       "    }\n",
       "\n",
       "    .dataframe tbody tr th {\n",
       "        vertical-align: top;\n",
       "    }\n",
       "\n",
       "    .dataframe thead th {\n",
       "        text-align: right;\n",
       "    }\n",
       "</style>\n",
       "<table border=\"1\" class=\"dataframe\">\n",
       "  <thead>\n",
       "    <tr style=\"text-align: right;\">\n",
       "      <th></th>\n",
       "      <th>client_id</th>\n",
       "      <th>amount_x</th>\n",
       "      <th>transaction_id</th>\n",
       "      <th>date</th>\n",
       "      <th>amount_y</th>\n",
       "      <th>type</th>\n",
       "      <th>description</th>\n",
       "    </tr>\n",
       "  </thead>\n",
       "  <tbody>\n",
       "    <tr>\n",
       "      <th>0</th>\n",
       "      <td>1</td>\n",
       "      <td>1000</td>\n",
       "      <td>1</td>\n",
       "      <td>2025-03-01</td>\n",
       "      <td>150</td>\n",
       "      <td>deposit</td>\n",
       "      <td>Salary</td>\n",
       "    </tr>\n",
       "    <tr>\n",
       "      <th>1</th>\n",
       "      <td>1</td>\n",
       "      <td>1000</td>\n",
       "      <td>2</td>\n",
       "      <td>2025-03-02</td>\n",
       "      <td>-50</td>\n",
       "      <td>withdrawal</td>\n",
       "      <td>ATM withdrawal</td>\n",
       "    </tr>\n",
       "    <tr>\n",
       "      <th>2</th>\n",
       "      <td>2</td>\n",
       "      <td>1500</td>\n",
       "      <td>3</td>\n",
       "      <td>2025-03-01</td>\n",
       "      <td>200</td>\n",
       "      <td>deposit</td>\n",
       "      <td>Freelance payment</td>\n",
       "    </tr>\n",
       "    <tr>\n",
       "      <th>3</th>\n",
       "      <td>2</td>\n",
       "      <td>1500</td>\n",
       "      <td>4</td>\n",
       "      <td>2025-03-03</td>\n",
       "      <td>-30</td>\n",
       "      <td>withdrawal</td>\n",
       "      <td>Grocery store</td>\n",
       "    </tr>\n",
       "    <tr>\n",
       "      <th>4</th>\n",
       "      <td>3</td>\n",
       "      <td>800</td>\n",
       "      <td>5</td>\n",
       "      <td>2025-03-02</td>\n",
       "      <td>100</td>\n",
       "      <td>deposit</td>\n",
       "      <td>Transfer from friend</td>\n",
       "    </tr>\n",
       "    <tr>\n",
       "      <th>5</th>\n",
       "      <td>3</td>\n",
       "      <td>800</td>\n",
       "      <td>6</td>\n",
       "      <td>2025-03-04</td>\n",
       "      <td>-20</td>\n",
       "      <td>withdrawal</td>\n",
       "      <td>Coffee shop</td>\n",
       "    </tr>\n",
       "    <tr>\n",
       "      <th>6</th>\n",
       "      <td>4</td>\n",
       "      <td>2000</td>\n",
       "      <td>7</td>\n",
       "      <td>2025-03-03</td>\n",
       "      <td>300</td>\n",
       "      <td>deposit</td>\n",
       "      <td>Bonus</td>\n",
       "    </tr>\n",
       "    <tr>\n",
       "      <th>7</th>\n",
       "      <td>4</td>\n",
       "      <td>2000</td>\n",
       "      <td>8</td>\n",
       "      <td>2025-03-05</td>\n",
       "      <td>-70</td>\n",
       "      <td>withdrawal</td>\n",
       "      <td>Restaurant</td>\n",
       "    </tr>\n",
       "    <tr>\n",
       "      <th>8</th>\n",
       "      <td>5</td>\n",
       "      <td>1200</td>\n",
       "      <td>9</td>\n",
       "      <td>2025-03-04</td>\n",
       "      <td>250</td>\n",
       "      <td>deposit</td>\n",
       "      <td>Investment return</td>\n",
       "    </tr>\n",
       "    <tr>\n",
       "      <th>9</th>\n",
       "      <td>5</td>\n",
       "      <td>1200</td>\n",
       "      <td>10</td>\n",
       "      <td>2025-03-06</td>\n",
       "      <td>-40</td>\n",
       "      <td>withdrawal</td>\n",
       "      <td>Shopping</td>\n",
       "    </tr>\n",
       "  </tbody>\n",
       "</table>\n",
       "</div>"
      ],
      "text/plain": [
       "   client_id  amount_x  transaction_id        date  amount_y        type  \\\n",
       "0          1      1000               1  2025-03-01       150     deposit   \n",
       "1          1      1000               2  2025-03-02       -50  withdrawal   \n",
       "2          2      1500               3  2025-03-01       200     deposit   \n",
       "3          2      1500               4  2025-03-03       -30  withdrawal   \n",
       "4          3       800               5  2025-03-02       100     deposit   \n",
       "5          3       800               6  2025-03-04       -20  withdrawal   \n",
       "6          4      2000               7  2025-03-03       300     deposit   \n",
       "7          4      2000               8  2025-03-05       -70  withdrawal   \n",
       "8          5      1200               9  2025-03-04       250     deposit   \n",
       "9          5      1200              10  2025-03-06       -40  withdrawal   \n",
       "\n",
       "            description  \n",
       "0                Salary  \n",
       "1        ATM withdrawal  \n",
       "2     Freelance payment  \n",
       "3         Grocery store  \n",
       "4  Transfer from friend  \n",
       "5           Coffee shop  \n",
       "6                 Bonus  \n",
       "7            Restaurant  \n",
       "8     Investment return  \n",
       "9              Shopping  "
      ]
     },
     "execution_count": 81,
     "metadata": {},
     "output_type": "execute_result"
    }
   ],
   "source": [
    "total_df = df_balance.merge(df_transaction, how='inner', on='client_id')\n",
    "total_df"
   ]
  },
  {
   "cell_type": "code",
   "execution_count": 92,
   "metadata": {},
   "outputs": [
    {
     "data": {
      "application/vnd.microsoft.datawrangler.viewer.v0+json": {
       "columns": [
        {
         "name": "index",
         "rawType": "int64",
         "type": "integer"
        },
        {
         "name": "client_id",
         "rawType": "int64",
         "type": "integer"
        },
        {
         "name": "amount_x",
         "rawType": "int64",
         "type": "integer"
        },
        {
         "name": "transaction_id",
         "rawType": "int64",
         "type": "integer"
        },
        {
         "name": "date",
         "rawType": "object",
         "type": "string"
        },
        {
         "name": "amount_y",
         "rawType": "int64",
         "type": "integer"
        },
        {
         "name": "type",
         "rawType": "object",
         "type": "string"
        },
        {
         "name": "description",
         "rawType": "object",
         "type": "string"
        },
        {
         "name": "threshhold",
         "rawType": "float64",
         "type": "float"
        },
        {
         "name": "is_suspicious",
         "rawType": "bool",
         "type": "boolean"
        }
       ],
       "conversionMethod": "pd.DataFrame",
       "ref": "a4a1799e-6342-4e54-8313-8efdeecc36ce",
       "rows": [
        [
         "0",
         "1",
         "1000",
         "1",
         "2025-03-01",
         "150",
         "deposit",
         "Salary",
         "100.0",
         "False"
        ],
        [
         "1",
         "1",
         "1000",
         "2",
         "2025-03-02",
         "-50",
         "withdrawal",
         "ATM withdrawal",
         "100.0",
         "False"
        ],
        [
         "2",
         "2",
         "1500",
         "3",
         "2025-03-01",
         "200",
         "deposit",
         "Freelance payment",
         "150.0",
         "False"
        ],
        [
         "3",
         "2",
         "1500",
         "4",
         "2025-03-03",
         "-30",
         "withdrawal",
         "Grocery store",
         "150.0",
         "False"
        ],
        [
         "4",
         "3",
         "800",
         "5",
         "2025-03-02",
         "100",
         "deposit",
         "Transfer from friend",
         "80.0",
         "False"
        ],
        [
         "5",
         "3",
         "800",
         "6",
         "2025-03-04",
         "-20",
         "withdrawal",
         "Coffee shop",
         "80.0",
         "False"
        ],
        [
         "6",
         "4",
         "2000",
         "7",
         "2025-03-03",
         "300",
         "deposit",
         "Bonus",
         "200.0",
         "False"
        ],
        [
         "7",
         "4",
         "2000",
         "8",
         "2025-03-05",
         "-70",
         "withdrawal",
         "Restaurant",
         "200.0",
         "False"
        ],
        [
         "8",
         "5",
         "1200",
         "9",
         "2025-03-04",
         "250",
         "deposit",
         "Investment return",
         "120.0",
         "False"
        ],
        [
         "9",
         "5",
         "1200",
         "10",
         "2025-03-06",
         "-40",
         "withdrawal",
         "Shopping",
         "120.0",
         "False"
        ]
       ],
       "shape": {
        "columns": 9,
        "rows": 10
       }
      },
      "text/html": [
       "<div>\n",
       "<style scoped>\n",
       "    .dataframe tbody tr th:only-of-type {\n",
       "        vertical-align: middle;\n",
       "    }\n",
       "\n",
       "    .dataframe tbody tr th {\n",
       "        vertical-align: top;\n",
       "    }\n",
       "\n",
       "    .dataframe thead th {\n",
       "        text-align: right;\n",
       "    }\n",
       "</style>\n",
       "<table border=\"1\" class=\"dataframe\">\n",
       "  <thead>\n",
       "    <tr style=\"text-align: right;\">\n",
       "      <th></th>\n",
       "      <th>client_id</th>\n",
       "      <th>amount_x</th>\n",
       "      <th>transaction_id</th>\n",
       "      <th>date</th>\n",
       "      <th>amount_y</th>\n",
       "      <th>type</th>\n",
       "      <th>description</th>\n",
       "      <th>threshhold</th>\n",
       "      <th>is_suspicious</th>\n",
       "    </tr>\n",
       "  </thead>\n",
       "  <tbody>\n",
       "    <tr>\n",
       "      <th>0</th>\n",
       "      <td>1</td>\n",
       "      <td>1000</td>\n",
       "      <td>1</td>\n",
       "      <td>2025-03-01</td>\n",
       "      <td>150</td>\n",
       "      <td>deposit</td>\n",
       "      <td>Salary</td>\n",
       "      <td>100.0</td>\n",
       "      <td>False</td>\n",
       "    </tr>\n",
       "    <tr>\n",
       "      <th>1</th>\n",
       "      <td>1</td>\n",
       "      <td>1000</td>\n",
       "      <td>2</td>\n",
       "      <td>2025-03-02</td>\n",
       "      <td>-50</td>\n",
       "      <td>withdrawal</td>\n",
       "      <td>ATM withdrawal</td>\n",
       "      <td>100.0</td>\n",
       "      <td>False</td>\n",
       "    </tr>\n",
       "    <tr>\n",
       "      <th>2</th>\n",
       "      <td>2</td>\n",
       "      <td>1500</td>\n",
       "      <td>3</td>\n",
       "      <td>2025-03-01</td>\n",
       "      <td>200</td>\n",
       "      <td>deposit</td>\n",
       "      <td>Freelance payment</td>\n",
       "      <td>150.0</td>\n",
       "      <td>False</td>\n",
       "    </tr>\n",
       "    <tr>\n",
       "      <th>3</th>\n",
       "      <td>2</td>\n",
       "      <td>1500</td>\n",
       "      <td>4</td>\n",
       "      <td>2025-03-03</td>\n",
       "      <td>-30</td>\n",
       "      <td>withdrawal</td>\n",
       "      <td>Grocery store</td>\n",
       "      <td>150.0</td>\n",
       "      <td>False</td>\n",
       "    </tr>\n",
       "    <tr>\n",
       "      <th>4</th>\n",
       "      <td>3</td>\n",
       "      <td>800</td>\n",
       "      <td>5</td>\n",
       "      <td>2025-03-02</td>\n",
       "      <td>100</td>\n",
       "      <td>deposit</td>\n",
       "      <td>Transfer from friend</td>\n",
       "      <td>80.0</td>\n",
       "      <td>False</td>\n",
       "    </tr>\n",
       "    <tr>\n",
       "      <th>5</th>\n",
       "      <td>3</td>\n",
       "      <td>800</td>\n",
       "      <td>6</td>\n",
       "      <td>2025-03-04</td>\n",
       "      <td>-20</td>\n",
       "      <td>withdrawal</td>\n",
       "      <td>Coffee shop</td>\n",
       "      <td>80.0</td>\n",
       "      <td>False</td>\n",
       "    </tr>\n",
       "    <tr>\n",
       "      <th>6</th>\n",
       "      <td>4</td>\n",
       "      <td>2000</td>\n",
       "      <td>7</td>\n",
       "      <td>2025-03-03</td>\n",
       "      <td>300</td>\n",
       "      <td>deposit</td>\n",
       "      <td>Bonus</td>\n",
       "      <td>200.0</td>\n",
       "      <td>False</td>\n",
       "    </tr>\n",
       "    <tr>\n",
       "      <th>7</th>\n",
       "      <td>4</td>\n",
       "      <td>2000</td>\n",
       "      <td>8</td>\n",
       "      <td>2025-03-05</td>\n",
       "      <td>-70</td>\n",
       "      <td>withdrawal</td>\n",
       "      <td>Restaurant</td>\n",
       "      <td>200.0</td>\n",
       "      <td>False</td>\n",
       "    </tr>\n",
       "    <tr>\n",
       "      <th>8</th>\n",
       "      <td>5</td>\n",
       "      <td>1200</td>\n",
       "      <td>9</td>\n",
       "      <td>2025-03-04</td>\n",
       "      <td>250</td>\n",
       "      <td>deposit</td>\n",
       "      <td>Investment return</td>\n",
       "      <td>120.0</td>\n",
       "      <td>False</td>\n",
       "    </tr>\n",
       "    <tr>\n",
       "      <th>9</th>\n",
       "      <td>5</td>\n",
       "      <td>1200</td>\n",
       "      <td>10</td>\n",
       "      <td>2025-03-06</td>\n",
       "      <td>-40</td>\n",
       "      <td>withdrawal</td>\n",
       "      <td>Shopping</td>\n",
       "      <td>120.0</td>\n",
       "      <td>False</td>\n",
       "    </tr>\n",
       "  </tbody>\n",
       "</table>\n",
       "</div>"
      ],
      "text/plain": [
       "   client_id  amount_x  transaction_id        date  amount_y        type  \\\n",
       "0          1      1000               1  2025-03-01       150     deposit   \n",
       "1          1      1000               2  2025-03-02       -50  withdrawal   \n",
       "2          2      1500               3  2025-03-01       200     deposit   \n",
       "3          2      1500               4  2025-03-03       -30  withdrawal   \n",
       "4          3       800               5  2025-03-02       100     deposit   \n",
       "5          3       800               6  2025-03-04       -20  withdrawal   \n",
       "6          4      2000               7  2025-03-03       300     deposit   \n",
       "7          4      2000               8  2025-03-05       -70  withdrawal   \n",
       "8          5      1200               9  2025-03-04       250     deposit   \n",
       "9          5      1200              10  2025-03-06       -40  withdrawal   \n",
       "\n",
       "            description  threshhold  is_suspicious  \n",
       "0                Salary       100.0          False  \n",
       "1        ATM withdrawal       100.0          False  \n",
       "2     Freelance payment       150.0          False  \n",
       "3         Grocery store       150.0          False  \n",
       "4  Transfer from friend        80.0          False  \n",
       "5           Coffee shop        80.0          False  \n",
       "6                 Bonus       200.0          False  \n",
       "7            Restaurant       200.0          False  \n",
       "8     Investment return       120.0          False  \n",
       "9              Shopping       120.0          False  "
      ]
     },
     "execution_count": 92,
     "metadata": {},
     "output_type": "execute_result"
    }
   ],
   "source": [
    "n = 10\n",
    "\n",
    "total_df['threshhold'] = total_df['amount_x'] * (n/100) \n",
    "# total_df.groupby('client_id')\n",
    "total_df\n"
   ]
  },
  {
   "cell_type": "code",
   "execution_count": 93,
   "metadata": {},
   "outputs": [
    {
     "data": {
      "application/vnd.microsoft.datawrangler.viewer.v0+json": {
       "columns": [
        {
         "name": "index",
         "rawType": "int64",
         "type": "integer"
        },
        {
         "name": "client_id",
         "rawType": "int64",
         "type": "integer"
        },
        {
         "name": "amount_x",
         "rawType": "int64",
         "type": "integer"
        },
        {
         "name": "transaction_id",
         "rawType": "int64",
         "type": "integer"
        },
        {
         "name": "date",
         "rawType": "object",
         "type": "string"
        },
        {
         "name": "amount_y",
         "rawType": "int64",
         "type": "integer"
        },
        {
         "name": "type",
         "rawType": "object",
         "type": "string"
        },
        {
         "name": "description",
         "rawType": "object",
         "type": "string"
        },
        {
         "name": "threshhold",
         "rawType": "float64",
         "type": "float"
        },
        {
         "name": "is_suspicious",
         "rawType": "bool",
         "type": "boolean"
        }
       ],
       "conversionMethod": "pd.DataFrame",
       "ref": "4c30a0ec-6d25-4d2c-a708-aecf012c8118",
       "rows": [
        [
         "0",
         "1",
         "1000",
         "1",
         "2025-03-01",
         "150",
         "deposit",
         "Salary",
         "100.0",
         "True"
        ],
        [
         "2",
         "2",
         "1500",
         "3",
         "2025-03-01",
         "200",
         "deposit",
         "Freelance payment",
         "150.0",
         "True"
        ],
        [
         "4",
         "3",
         "800",
         "5",
         "2025-03-02",
         "100",
         "deposit",
         "Transfer from friend",
         "80.0",
         "True"
        ],
        [
         "6",
         "4",
         "2000",
         "7",
         "2025-03-03",
         "300",
         "deposit",
         "Bonus",
         "200.0",
         "True"
        ],
        [
         "8",
         "5",
         "1200",
         "9",
         "2025-03-04",
         "250",
         "deposit",
         "Investment return",
         "120.0",
         "True"
        ]
       ],
       "shape": {
        "columns": 9,
        "rows": 5
       }
      },
      "text/html": [
       "<div>\n",
       "<style scoped>\n",
       "    .dataframe tbody tr th:only-of-type {\n",
       "        vertical-align: middle;\n",
       "    }\n",
       "\n",
       "    .dataframe tbody tr th {\n",
       "        vertical-align: top;\n",
       "    }\n",
       "\n",
       "    .dataframe thead th {\n",
       "        text-align: right;\n",
       "    }\n",
       "</style>\n",
       "<table border=\"1\" class=\"dataframe\">\n",
       "  <thead>\n",
       "    <tr style=\"text-align: right;\">\n",
       "      <th></th>\n",
       "      <th>client_id</th>\n",
       "      <th>amount_x</th>\n",
       "      <th>transaction_id</th>\n",
       "      <th>date</th>\n",
       "      <th>amount_y</th>\n",
       "      <th>type</th>\n",
       "      <th>description</th>\n",
       "      <th>threshhold</th>\n",
       "      <th>is_suspicious</th>\n",
       "    </tr>\n",
       "  </thead>\n",
       "  <tbody>\n",
       "    <tr>\n",
       "      <th>0</th>\n",
       "      <td>1</td>\n",
       "      <td>1000</td>\n",
       "      <td>1</td>\n",
       "      <td>2025-03-01</td>\n",
       "      <td>150</td>\n",
       "      <td>deposit</td>\n",
       "      <td>Salary</td>\n",
       "      <td>100.0</td>\n",
       "      <td>True</td>\n",
       "    </tr>\n",
       "    <tr>\n",
       "      <th>2</th>\n",
       "      <td>2</td>\n",
       "      <td>1500</td>\n",
       "      <td>3</td>\n",
       "      <td>2025-03-01</td>\n",
       "      <td>200</td>\n",
       "      <td>deposit</td>\n",
       "      <td>Freelance payment</td>\n",
       "      <td>150.0</td>\n",
       "      <td>True</td>\n",
       "    </tr>\n",
       "    <tr>\n",
       "      <th>4</th>\n",
       "      <td>3</td>\n",
       "      <td>800</td>\n",
       "      <td>5</td>\n",
       "      <td>2025-03-02</td>\n",
       "      <td>100</td>\n",
       "      <td>deposit</td>\n",
       "      <td>Transfer from friend</td>\n",
       "      <td>80.0</td>\n",
       "      <td>True</td>\n",
       "    </tr>\n",
       "    <tr>\n",
       "      <th>6</th>\n",
       "      <td>4</td>\n",
       "      <td>2000</td>\n",
       "      <td>7</td>\n",
       "      <td>2025-03-03</td>\n",
       "      <td>300</td>\n",
       "      <td>deposit</td>\n",
       "      <td>Bonus</td>\n",
       "      <td>200.0</td>\n",
       "      <td>True</td>\n",
       "    </tr>\n",
       "    <tr>\n",
       "      <th>8</th>\n",
       "      <td>5</td>\n",
       "      <td>1200</td>\n",
       "      <td>9</td>\n",
       "      <td>2025-03-04</td>\n",
       "      <td>250</td>\n",
       "      <td>deposit</td>\n",
       "      <td>Investment return</td>\n",
       "      <td>120.0</td>\n",
       "      <td>True</td>\n",
       "    </tr>\n",
       "  </tbody>\n",
       "</table>\n",
       "</div>"
      ],
      "text/plain": [
       "   client_id  amount_x  transaction_id        date  amount_y     type  \\\n",
       "0          1      1000               1  2025-03-01       150  deposit   \n",
       "2          2      1500               3  2025-03-01       200  deposit   \n",
       "4          3       800               5  2025-03-02       100  deposit   \n",
       "6          4      2000               7  2025-03-03       300  deposit   \n",
       "8          5      1200               9  2025-03-04       250  deposit   \n",
       "\n",
       "            description  threshhold  is_suspicious  \n",
       "0                Salary       100.0           True  \n",
       "2     Freelance payment       150.0           True  \n",
       "4  Transfer from friend        80.0           True  \n",
       "6                 Bonus       200.0           True  \n",
       "8     Investment return       120.0           True  "
      ]
     },
     "execution_count": 93,
     "metadata": {},
     "output_type": "execute_result"
    }
   ],
   "source": [
    "total_df['is_suspicious'] = total_df['amount_y'].abs() > total_df['threshhold']\n",
    "suspicious_operations = total_df[total_df['is_suspicious']]\n",
    "suspicious_operations\n",
    "\n",
    "\n",
    "\n"
   ]
  }
 ],
 "metadata": {
  "kernelspec": {
   "display_name": "venv",
   "language": "python",
   "name": "python3"
  },
  "language_info": {
   "codemirror_mode": {
    "name": "ipython",
    "version": 3
   },
   "file_extension": ".py",
   "mimetype": "text/x-python",
   "name": "python",
   "nbconvert_exporter": "python",
   "pygments_lexer": "ipython3",
   "version": "3.12.9"
  }
 },
 "nbformat": 4,
 "nbformat_minor": 2
}
